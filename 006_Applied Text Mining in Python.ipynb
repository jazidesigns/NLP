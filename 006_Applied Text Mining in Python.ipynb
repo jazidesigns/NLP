{
 "cells": [
  {
   "cell_type": "code",
   "execution_count": 47,
   "id": "ea712b89",
   "metadata": {},
   "outputs": [
    {
     "data": {
      "text/plain": [
       "'In the name of Allah, the most benoficient, the most merciful'"
      ]
     },
     "execution_count": 47,
     "metadata": {},
     "output_type": "execute_result"
    }
   ],
   "source": [
    "tasmia = \"In the name of Allah, the most benoficient, the most merciful\"\n",
    "tasmia"
   ]
  },
  {
   "cell_type": "markdown",
   "id": "2e7394fd",
   "metadata": {},
   "source": [
    "### Import Libraries"
   ]
  },
  {
   "cell_type": "code",
   "execution_count": 1,
   "id": "43dbde03",
   "metadata": {},
   "outputs": [],
   "source": [
    "import re\n",
    "import pandas as pd\n",
    "import numpy as np\n",
    "\n",
    "import warnings\n",
    "warnings.filterwarnings(\"ignore\")\n",
    "from sklearn.model_selection import train_test_split\n",
    "from sklearn.feature_extraction.text import CountVectorizer, ENGLISH_STOP_WORDS, TfidfVectorizer\n",
    "from sklearn.linear_model import LogisticRegression\n",
    "from sklearn.naive_bayes import MultinomialNB\n",
    "\n",
    "from sklearn.metrics import confusion_matrix\n",
    "from sklearn.metrics import classification_report"
   ]
  },
  {
   "cell_type": "markdown",
   "id": "9283b24b",
   "metadata": {},
   "source": [
    "### Handling Text in Python"
   ]
  },
  {
   "cell_type": "code",
   "execution_count": 49,
   "id": "05fd5b83",
   "metadata": {},
   "outputs": [
    {
     "data": {
      "text/plain": [
       "34"
      ]
     },
     "execution_count": 49,
     "metadata": {},
     "output_type": "execute_result"
    }
   ],
   "source": [
    "# Length of string (characters)\n",
    "\n",
    "text = \"Data Science is an emerging field.\"\n",
    "len(text)"
   ]
  },
  {
   "cell_type": "code",
   "execution_count": 50,
   "id": "05e74828",
   "metadata": {},
   "outputs": [
    {
     "data": {
      "text/plain": [
       "['Data', 'Science', 'is', 'an', 'emerging', 'field.']"
      ]
     },
     "execution_count": 50,
     "metadata": {},
     "output_type": "execute_result"
    }
   ],
   "source": [
    "# Total Words\n",
    "\n",
    "words = text.split(\" \")\n",
    "words"
   ]
  },
  {
   "cell_type": "code",
   "execution_count": 51,
   "id": "50b0d86a",
   "metadata": {},
   "outputs": [
    {
     "name": "stdout",
     "output_type": "stream",
     "text": [
      "Total words in text = 6\n"
     ]
    }
   ],
   "source": [
    "print(\"Total words in text =\", len(words))"
   ]
  },
  {
   "cell_type": "markdown",
   "id": "e5749c34",
   "metadata": {},
   "source": [
    "**Long Words**"
   ]
  },
  {
   "cell_type": "code",
   "execution_count": 52,
   "id": "61e2b9d5",
   "metadata": {},
   "outputs": [
    {
     "data": {
      "text/plain": [
       "['Data', 'Science', 'emerging', 'field.']"
      ]
     },
     "execution_count": 52,
     "metadata": {},
     "output_type": "execute_result"
    }
   ],
   "source": [
    "lw = [l for l in words if len(l) > 3]\n",
    "lw"
   ]
  },
  {
   "cell_type": "markdown",
   "id": "9acbd8ba",
   "metadata": {},
   "source": [
    "**Capitalize Words**"
   ]
  },
  {
   "cell_type": "code",
   "execution_count": 53,
   "id": "98c44026",
   "metadata": {},
   "outputs": [
    {
     "data": {
      "text/plain": [
       "['Data', 'Science']"
      ]
     },
     "execution_count": 53,
     "metadata": {},
     "output_type": "execute_result"
    }
   ],
   "source": [
    "cw = [c for c in words if c.istitle()]\n",
    "cw"
   ]
  },
  {
   "cell_type": "markdown",
   "id": "a206b70a",
   "metadata": {},
   "source": [
    "**Unique Words**"
   ]
  },
  {
   "cell_type": "code",
   "execution_count": 54,
   "id": "e3218eeb",
   "metadata": {},
   "outputs": [
    {
     "data": {
      "text/plain": [
       "{'To', 'be', 'not', 'or', 'to'}"
      ]
     },
     "execution_count": 54,
     "metadata": {},
     "output_type": "execute_result"
    }
   ],
   "source": [
    "text2 = \"To be or not to be\"\n",
    "\n",
    "words2 = text2.split(\" \")\n",
    "set(words2)"
   ]
  },
  {
   "cell_type": "code",
   "execution_count": 55,
   "id": "9193b6c3",
   "metadata": {},
   "outputs": [
    {
     "data": {
      "text/plain": [
       "{'be', 'not', 'or', 'to'}"
      ]
     },
     "execution_count": 55,
     "metadata": {},
     "output_type": "execute_result"
    }
   ],
   "source": [
    "# To comes two times because of capitalization\n",
    "\n",
    "sw = set([w.lower() for w in words2])\n",
    "sw"
   ]
  },
  {
   "cell_type": "markdown",
   "id": "50fbd4f4",
   "metadata": {},
   "source": [
    "**Words to Characters**"
   ]
  },
  {
   "cell_type": "code",
   "execution_count": 56,
   "id": "705e5535",
   "metadata": {},
   "outputs": [
    {
     "data": {
      "text/plain": [
       "['', 'agad', 'g', '']"
      ]
     },
     "execution_count": 56,
     "metadata": {},
     "output_type": "execute_result"
    }
   ],
   "source": [
    "text3 = 'ouagadougou'\n",
    "text3.split(\"ou\")"
   ]
  },
  {
   "cell_type": "markdown",
   "id": "e3d069c0",
   "metadata": {},
   "source": [
    "**Cleaning Text**"
   ]
  },
  {
   "cell_type": "code",
   "execution_count": 57,
   "id": "b02dbdbc",
   "metadata": {},
   "outputs": [
    {
     "data": {
      "text/plain": [
       "'A quick brown fox jumped over the lazy dog.'"
      ]
     },
     "execution_count": 57,
     "metadata": {},
     "output_type": "execute_result"
    }
   ],
   "source": [
    "text4 = \"    A quick brown fox jumped over the lazy dog. \"\n",
    "\n",
    "# Remove whitespace\n",
    "clean_text = text4.strip()\n",
    "clean_text"
   ]
  },
  {
   "cell_type": "markdown",
   "id": "bd73333b",
   "metadata": {},
   "source": [
    "**Find Words at Index**"
   ]
  },
  {
   "cell_type": "code",
   "execution_count": 58,
   "id": "a68e2c51",
   "metadata": {},
   "outputs": [
    {
     "data": {
      "text/plain": [
       "14"
      ]
     },
     "execution_count": 58,
     "metadata": {},
     "output_type": "execute_result"
    }
   ],
   "source": [
    "clean_text.find(\"fox\")"
   ]
  },
  {
   "cell_type": "markdown",
   "id": "005bdd3a",
   "metadata": {},
   "source": [
    "**Find Hashtags**"
   ]
  },
  {
   "cell_type": "code",
   "execution_count": 59,
   "id": "7edde699",
   "metadata": {},
   "outputs": [],
   "source": [
    "text5 = '\"Ethics are built right into the ideals and objectives of the United Nations\" \\\n",
    "#UNSG @ NY Society for Ethical Culture bit.ly/2guVelr'"
   ]
  },
  {
   "cell_type": "code",
   "execution_count": 60,
   "id": "b449a775",
   "metadata": {},
   "outputs": [
    {
     "data": {
      "text/plain": [
       "['#UNSG']"
      ]
     },
     "execution_count": 60,
     "metadata": {},
     "output_type": "execute_result"
    }
   ],
   "source": [
    "[h for h in text5.split() if h.startswith(\"#\")]"
   ]
  },
  {
   "cell_type": "markdown",
   "id": "2ad6cdab",
   "metadata": {},
   "source": [
    "**Finding Callouts:**"
   ]
  },
  {
   "cell_type": "code",
   "execution_count": 61,
   "id": "703440e2",
   "metadata": {},
   "outputs": [],
   "source": [
    "text7 = '@UN @UN_Women \"Ethics are built right into the ideals and objectives of the United Nations\" \\\n",
    "#UNSG @NY_Society for Ethical Culture bit.ly/2guVelr'"
   ]
  },
  {
   "cell_type": "code",
   "execution_count": 62,
   "id": "7e046e7e",
   "metadata": {},
   "outputs": [
    {
     "data": {
      "text/plain": [
       "['@UN', '@UN_Women', '@NY_Society']"
      ]
     },
     "execution_count": 62,
     "metadata": {},
     "output_type": "execute_result"
    }
   ],
   "source": [
    "[t for t in text7.split() if t.startswith(\"@\")]"
   ]
  },
  {
   "cell_type": "markdown",
   "id": "332454b7",
   "metadata": {},
   "source": [
    "**Print Hashtags**"
   ]
  },
  {
   "cell_type": "code",
   "execution_count": 63,
   "id": "39488596",
   "metadata": {},
   "outputs": [
    {
     "data": {
      "text/plain": [
       "['#regex', '#pandas', '#python']"
      ]
     },
     "execution_count": 63,
     "metadata": {},
     "output_type": "execute_result"
    }
   ],
   "source": [
    "tweet = \"@nltk Text analysis is awesome! #regex #pandas #python\"\n",
    "\n",
    "hashtags = [t for t in tweet.split() if t.startswith(\"#\")]\n",
    "hashtags"
   ]
  },
  {
   "cell_type": "markdown",
   "id": "bb253ff7",
   "metadata": {},
   "source": [
    "### Regex with Pandas and Named Groups"
   ]
  },
  {
   "cell_type": "code",
   "execution_count": 64,
   "id": "2e9f9327",
   "metadata": {},
   "outputs": [
    {
     "data": {
      "text/html": [
       "<div>\n",
       "<style scoped>\n",
       "    .dataframe tbody tr th:only-of-type {\n",
       "        vertical-align: middle;\n",
       "    }\n",
       "\n",
       "    .dataframe tbody tr th {\n",
       "        vertical-align: top;\n",
       "    }\n",
       "\n",
       "    .dataframe thead th {\n",
       "        text-align: right;\n",
       "    }\n",
       "</style>\n",
       "<table border=\"1\" class=\"dataframe\">\n",
       "  <thead>\n",
       "    <tr style=\"text-align: right;\">\n",
       "      <th></th>\n",
       "      <th>text</th>\n",
       "    </tr>\n",
       "  </thead>\n",
       "  <tbody>\n",
       "    <tr>\n",
       "      <th>0</th>\n",
       "      <td>Monday: The doctor's appointment is at 2:45pm.</td>\n",
       "    </tr>\n",
       "    <tr>\n",
       "      <th>1</th>\n",
       "      <td>Tuesday: The dentist's appointment is at 11:30...</td>\n",
       "    </tr>\n",
       "    <tr>\n",
       "      <th>2</th>\n",
       "      <td>Wednesday: At 7:00pm, there is a basketball game!</td>\n",
       "    </tr>\n",
       "    <tr>\n",
       "      <th>3</th>\n",
       "      <td>Thursday: Be back home by 11:15 pm at the latest.</td>\n",
       "    </tr>\n",
       "    <tr>\n",
       "      <th>4</th>\n",
       "      <td>Friday: Take the train at 08:10 am, arrive at ...</td>\n",
       "    </tr>\n",
       "  </tbody>\n",
       "</table>\n",
       "</div>"
      ],
      "text/plain": [
       "                                                text\n",
       "0     Monday: The doctor's appointment is at 2:45pm.\n",
       "1  Tuesday: The dentist's appointment is at 11:30...\n",
       "2  Wednesday: At 7:00pm, there is a basketball game!\n",
       "3  Thursday: Be back home by 11:15 pm at the latest.\n",
       "4  Friday: Take the train at 08:10 am, arrive at ..."
      ]
     },
     "execution_count": 64,
     "metadata": {},
     "output_type": "execute_result"
    }
   ],
   "source": [
    "time_sentences = [\"Monday: The doctor's appointment is at 2:45pm.\", \n",
    "                  \"Tuesday: The dentist's appointment is at 11:30 am.\",\n",
    "                  \"Wednesday: At 7:00pm, there is a basketball game!\",\n",
    "                  \"Thursday: Be back home by 11:15 pm at the latest.\",\n",
    "                  \"Friday: Take the train at 08:10 am, arrive at 09:00am.\"]\n",
    "\n",
    "df = pd.DataFrame(time_sentences, columns=['text'])\n",
    "df"
   ]
  },
  {
   "cell_type": "markdown",
   "id": "185a955e",
   "metadata": {},
   "source": [
    "**Number of Characters in each Text**"
   ]
  },
  {
   "cell_type": "code",
   "execution_count": 65,
   "id": "f4f56155",
   "metadata": {},
   "outputs": [
    {
     "data": {
      "text/html": [
       "<div>\n",
       "<style scoped>\n",
       "    .dataframe tbody tr th:only-of-type {\n",
       "        vertical-align: middle;\n",
       "    }\n",
       "\n",
       "    .dataframe tbody tr th {\n",
       "        vertical-align: top;\n",
       "    }\n",
       "\n",
       "    .dataframe thead th {\n",
       "        text-align: right;\n",
       "    }\n",
       "</style>\n",
       "<table border=\"1\" class=\"dataframe\">\n",
       "  <thead>\n",
       "    <tr style=\"text-align: right;\">\n",
       "      <th></th>\n",
       "      <th>text</th>\n",
       "      <th>characters</th>\n",
       "    </tr>\n",
       "  </thead>\n",
       "  <tbody>\n",
       "    <tr>\n",
       "      <th>0</th>\n",
       "      <td>Monday: The doctor's appointment is at 2:45pm.</td>\n",
       "      <td>46</td>\n",
       "    </tr>\n",
       "    <tr>\n",
       "      <th>1</th>\n",
       "      <td>Tuesday: The dentist's appointment is at 11:30...</td>\n",
       "      <td>50</td>\n",
       "    </tr>\n",
       "    <tr>\n",
       "      <th>2</th>\n",
       "      <td>Wednesday: At 7:00pm, there is a basketball game!</td>\n",
       "      <td>49</td>\n",
       "    </tr>\n",
       "    <tr>\n",
       "      <th>3</th>\n",
       "      <td>Thursday: Be back home by 11:15 pm at the latest.</td>\n",
       "      <td>49</td>\n",
       "    </tr>\n",
       "    <tr>\n",
       "      <th>4</th>\n",
       "      <td>Friday: Take the train at 08:10 am, arrive at ...</td>\n",
       "      <td>54</td>\n",
       "    </tr>\n",
       "  </tbody>\n",
       "</table>\n",
       "</div>"
      ],
      "text/plain": [
       "                                                text  characters\n",
       "0     Monday: The doctor's appointment is at 2:45pm.          46\n",
       "1  Tuesday: The dentist's appointment is at 11:30...          50\n",
       "2  Wednesday: At 7:00pm, there is a basketball game!          49\n",
       "3  Thursday: Be back home by 11:15 pm at the latest.          49\n",
       "4  Friday: Take the train at 08:10 am, arrive at ...          54"
      ]
     },
     "execution_count": 65,
     "metadata": {},
     "output_type": "execute_result"
    }
   ],
   "source": [
    "df[\"characters\"] = df[\"text\"].str.len()\n",
    "df"
   ]
  },
  {
   "cell_type": "markdown",
   "id": "5297d2a1",
   "metadata": {},
   "source": [
    "**Number of Words in each Text**"
   ]
  },
  {
   "cell_type": "code",
   "execution_count": 66,
   "id": "2ff2f1d8",
   "metadata": {},
   "outputs": [
    {
     "data": {
      "text/html": [
       "<div>\n",
       "<style scoped>\n",
       "    .dataframe tbody tr th:only-of-type {\n",
       "        vertical-align: middle;\n",
       "    }\n",
       "\n",
       "    .dataframe tbody tr th {\n",
       "        vertical-align: top;\n",
       "    }\n",
       "\n",
       "    .dataframe thead th {\n",
       "        text-align: right;\n",
       "    }\n",
       "</style>\n",
       "<table border=\"1\" class=\"dataframe\">\n",
       "  <thead>\n",
       "    <tr style=\"text-align: right;\">\n",
       "      <th></th>\n",
       "      <th>text</th>\n",
       "      <th>characters</th>\n",
       "      <th>words</th>\n",
       "    </tr>\n",
       "  </thead>\n",
       "  <tbody>\n",
       "    <tr>\n",
       "      <th>0</th>\n",
       "      <td>Monday: The doctor's appointment is at 2:45pm.</td>\n",
       "      <td>46</td>\n",
       "      <td>7</td>\n",
       "    </tr>\n",
       "    <tr>\n",
       "      <th>1</th>\n",
       "      <td>Tuesday: The dentist's appointment is at 11:30...</td>\n",
       "      <td>50</td>\n",
       "      <td>8</td>\n",
       "    </tr>\n",
       "    <tr>\n",
       "      <th>2</th>\n",
       "      <td>Wednesday: At 7:00pm, there is a basketball game!</td>\n",
       "      <td>49</td>\n",
       "      <td>8</td>\n",
       "    </tr>\n",
       "    <tr>\n",
       "      <th>3</th>\n",
       "      <td>Thursday: Be back home by 11:15 pm at the latest.</td>\n",
       "      <td>49</td>\n",
       "      <td>10</td>\n",
       "    </tr>\n",
       "    <tr>\n",
       "      <th>4</th>\n",
       "      <td>Friday: Take the train at 08:10 am, arrive at ...</td>\n",
       "      <td>54</td>\n",
       "      <td>10</td>\n",
       "    </tr>\n",
       "  </tbody>\n",
       "</table>\n",
       "</div>"
      ],
      "text/plain": [
       "                                                text  characters  words\n",
       "0     Monday: The doctor's appointment is at 2:45pm.          46      7\n",
       "1  Tuesday: The dentist's appointment is at 11:30...          50      8\n",
       "2  Wednesday: At 7:00pm, there is a basketball game!          49      8\n",
       "3  Thursday: Be back home by 11:15 pm at the latest.          49     10\n",
       "4  Friday: Take the train at 08:10 am, arrive at ...          54     10"
      ]
     },
     "execution_count": 66,
     "metadata": {},
     "output_type": "execute_result"
    }
   ],
   "source": [
    "df[\"words\"] = df[\"text\"].str.split().str.len()\n",
    "df"
   ]
  },
  {
   "cell_type": "markdown",
   "id": "35f9db98",
   "metadata": {},
   "source": [
    "**find which entries contain the word 'appointment'**"
   ]
  },
  {
   "cell_type": "code",
   "execution_count": 67,
   "id": "cab3af52",
   "metadata": {},
   "outputs": [
    {
     "data": {
      "text/plain": [
       "0     True\n",
       "1     True\n",
       "2    False\n",
       "3    False\n",
       "4    False\n",
       "Name: text, dtype: bool"
      ]
     },
     "execution_count": 67,
     "metadata": {},
     "output_type": "execute_result"
    }
   ],
   "source": [
    "df[\"text\"].str.contains(\"appointment\")"
   ]
  },
  {
   "cell_type": "markdown",
   "id": "714a5058",
   "metadata": {},
   "source": [
    "**find how many times a digit occurs in each string**"
   ]
  },
  {
   "cell_type": "code",
   "execution_count": 68,
   "id": "733897dd",
   "metadata": {},
   "outputs": [
    {
     "data": {
      "text/plain": [
       "0    3\n",
       "1    4\n",
       "2    3\n",
       "3    4\n",
       "4    8\n",
       "Name: text, dtype: int64"
      ]
     },
     "execution_count": 68,
     "metadata": {},
     "output_type": "execute_result"
    }
   ],
   "source": [
    "df[\"text\"].str.count(r'\\d')"
   ]
  },
  {
   "cell_type": "markdown",
   "id": "d8baafa9",
   "metadata": {},
   "source": [
    "**Create new columns from first match of extracted groups**"
   ]
  },
  {
   "cell_type": "code",
   "execution_count": 69,
   "id": "23d491ee",
   "metadata": {},
   "outputs": [
    {
     "data": {
      "text/html": [
       "<div>\n",
       "<style scoped>\n",
       "    .dataframe tbody tr th:only-of-type {\n",
       "        vertical-align: middle;\n",
       "    }\n",
       "\n",
       "    .dataframe tbody tr th {\n",
       "        vertical-align: top;\n",
       "    }\n",
       "\n",
       "    .dataframe thead th {\n",
       "        text-align: right;\n",
       "    }\n",
       "</style>\n",
       "<table border=\"1\" class=\"dataframe\">\n",
       "  <thead>\n",
       "    <tr style=\"text-align: right;\">\n",
       "      <th></th>\n",
       "      <th></th>\n",
       "      <th>0</th>\n",
       "      <th>1</th>\n",
       "      <th>2</th>\n",
       "      <th>3</th>\n",
       "    </tr>\n",
       "    <tr>\n",
       "      <th></th>\n",
       "      <th>match</th>\n",
       "      <th></th>\n",
       "      <th></th>\n",
       "      <th></th>\n",
       "      <th></th>\n",
       "    </tr>\n",
       "  </thead>\n",
       "  <tbody>\n",
       "    <tr>\n",
       "      <th>0</th>\n",
       "      <th>0</th>\n",
       "      <td>2:45pm</td>\n",
       "      <td>2</td>\n",
       "      <td>45</td>\n",
       "      <td>pm</td>\n",
       "    </tr>\n",
       "    <tr>\n",
       "      <th>1</th>\n",
       "      <th>0</th>\n",
       "      <td>11:30 am</td>\n",
       "      <td>11</td>\n",
       "      <td>30</td>\n",
       "      <td>am</td>\n",
       "    </tr>\n",
       "    <tr>\n",
       "      <th>2</th>\n",
       "      <th>0</th>\n",
       "      <td>7:00pm</td>\n",
       "      <td>7</td>\n",
       "      <td>00</td>\n",
       "      <td>pm</td>\n",
       "    </tr>\n",
       "    <tr>\n",
       "      <th>3</th>\n",
       "      <th>0</th>\n",
       "      <td>11:15 pm</td>\n",
       "      <td>11</td>\n",
       "      <td>15</td>\n",
       "      <td>pm</td>\n",
       "    </tr>\n",
       "    <tr>\n",
       "      <th rowspan=\"2\" valign=\"top\">4</th>\n",
       "      <th>0</th>\n",
       "      <td>08:10 am</td>\n",
       "      <td>08</td>\n",
       "      <td>10</td>\n",
       "      <td>am</td>\n",
       "    </tr>\n",
       "    <tr>\n",
       "      <th>1</th>\n",
       "      <td>09:00am</td>\n",
       "      <td>09</td>\n",
       "      <td>00</td>\n",
       "      <td>am</td>\n",
       "    </tr>\n",
       "  </tbody>\n",
       "</table>\n",
       "</div>"
      ],
      "text/plain": [
       "                0   1   2   3\n",
       "  match                      \n",
       "0 0        2:45pm   2  45  pm\n",
       "1 0      11:30 am  11  30  am\n",
       "2 0        7:00pm   7  00  pm\n",
       "3 0      11:15 pm  11  15  pm\n",
       "4 0      08:10 am  08  10  am\n",
       "  1       09:00am  09  00  am"
      ]
     },
     "execution_count": 69,
     "metadata": {},
     "output_type": "execute_result"
    }
   ],
   "source": [
    "df[\"text\"].str.extractall(r'((\\d?\\d):(\\d\\d) ?([ap]m))')"
   ]
  },
  {
   "cell_type": "markdown",
   "id": "f7045edf",
   "metadata": {},
   "source": [
    "**extract the hours, the minutes, and the period with group names**"
   ]
  },
  {
   "cell_type": "code",
   "execution_count": 70,
   "id": "cf369279",
   "metadata": {},
   "outputs": [
    {
     "data": {
      "text/html": [
       "<div>\n",
       "<style scoped>\n",
       "    .dataframe tbody tr th:only-of-type {\n",
       "        vertical-align: middle;\n",
       "    }\n",
       "\n",
       "    .dataframe tbody tr th {\n",
       "        vertical-align: top;\n",
       "    }\n",
       "\n",
       "    .dataframe thead th {\n",
       "        text-align: right;\n",
       "    }\n",
       "</style>\n",
       "<table border=\"1\" class=\"dataframe\">\n",
       "  <thead>\n",
       "    <tr style=\"text-align: right;\">\n",
       "      <th></th>\n",
       "      <th></th>\n",
       "      <th>hour</th>\n",
       "      <th>minute</th>\n",
       "      <th>period</th>\n",
       "    </tr>\n",
       "    <tr>\n",
       "      <th></th>\n",
       "      <th>match</th>\n",
       "      <th></th>\n",
       "      <th></th>\n",
       "      <th></th>\n",
       "    </tr>\n",
       "  </thead>\n",
       "  <tbody>\n",
       "    <tr>\n",
       "      <th>0</th>\n",
       "      <th>0</th>\n",
       "      <td>2</td>\n",
       "      <td>45</td>\n",
       "      <td>pm</td>\n",
       "    </tr>\n",
       "    <tr>\n",
       "      <th>1</th>\n",
       "      <th>0</th>\n",
       "      <td>11</td>\n",
       "      <td>30</td>\n",
       "      <td>am</td>\n",
       "    </tr>\n",
       "    <tr>\n",
       "      <th>2</th>\n",
       "      <th>0</th>\n",
       "      <td>7</td>\n",
       "      <td>00</td>\n",
       "      <td>pm</td>\n",
       "    </tr>\n",
       "    <tr>\n",
       "      <th>3</th>\n",
       "      <th>0</th>\n",
       "      <td>11</td>\n",
       "      <td>15</td>\n",
       "      <td>pm</td>\n",
       "    </tr>\n",
       "    <tr>\n",
       "      <th rowspan=\"2\" valign=\"top\">4</th>\n",
       "      <th>0</th>\n",
       "      <td>08</td>\n",
       "      <td>10</td>\n",
       "      <td>am</td>\n",
       "    </tr>\n",
       "    <tr>\n",
       "      <th>1</th>\n",
       "      <td>09</td>\n",
       "      <td>00</td>\n",
       "      <td>am</td>\n",
       "    </tr>\n",
       "  </tbody>\n",
       "</table>\n",
       "</div>"
      ],
      "text/plain": [
       "        hour minute period\n",
       "  match                   \n",
       "0 0        2     45     pm\n",
       "1 0       11     30     am\n",
       "2 0        7     00     pm\n",
       "3 0       11     15     pm\n",
       "4 0       08     10     am\n",
       "  1       09     00     am"
      ]
     },
     "execution_count": 70,
     "metadata": {},
     "output_type": "execute_result"
    }
   ],
   "source": [
    "df[\"text\"].str.extractall(r'(?P<hour>\\d?\\d):(?P<minute>\\d\\d) ?(?P<period>[ap]m)')"
   ]
  },
  {
   "cell_type": "markdown",
   "id": "3be46b83",
   "metadata": {},
   "source": [
    "### Sentiment Analysis"
   ]
  },
  {
   "cell_type": "code",
   "execution_count": 71,
   "id": "d06ebba7",
   "metadata": {},
   "outputs": [
    {
     "data": {
      "text/html": [
       "<div>\n",
       "<style scoped>\n",
       "    .dataframe tbody tr th:only-of-type {\n",
       "        vertical-align: middle;\n",
       "    }\n",
       "\n",
       "    .dataframe tbody tr th {\n",
       "        vertical-align: top;\n",
       "    }\n",
       "\n",
       "    .dataframe thead th {\n",
       "        text-align: right;\n",
       "    }\n",
       "</style>\n",
       "<table border=\"1\" class=\"dataframe\">\n",
       "  <thead>\n",
       "    <tr style=\"text-align: right;\">\n",
       "      <th></th>\n",
       "      <th>Product Name</th>\n",
       "      <th>Brand Name</th>\n",
       "      <th>Price</th>\n",
       "      <th>Rating</th>\n",
       "      <th>Reviews</th>\n",
       "      <th>Review Votes</th>\n",
       "    </tr>\n",
       "  </thead>\n",
       "  <tbody>\n",
       "    <tr>\n",
       "      <th>58569</th>\n",
       "      <td>Apple iPhone 6 Plus Factory Unlocked Cellphone...</td>\n",
       "      <td>Apple</td>\n",
       "      <td>605.00</td>\n",
       "      <td>4</td>\n",
       "      <td>It arrived early; however, seems to work bette...</td>\n",
       "      <td>0.0</td>\n",
       "    </tr>\n",
       "    <tr>\n",
       "      <th>322490</th>\n",
       "      <td>Samsung Galaxy Note 3 (SM-N900V) - 32GB Verizo...</td>\n",
       "      <td>Samsung</td>\n",
       "      <td>209.99</td>\n",
       "      <td>5</td>\n",
       "      <td>I bought this phone hoping for the best and so...</td>\n",
       "      <td>2.0</td>\n",
       "    </tr>\n",
       "    <tr>\n",
       "      <th>169178</th>\n",
       "      <td>CNPGD [U.S. Office Extended Warranty] Smartwat...</td>\n",
       "      <td>CNPGD</td>\n",
       "      <td>59.99</td>\n",
       "      <td>1</td>\n",
       "      <td>This is the worst thing ever happen to me I bo...</td>\n",
       "      <td>1.0</td>\n",
       "    </tr>\n",
       "    <tr>\n",
       "      <th>131761</th>\n",
       "      <td>BLU PURE XL Smartphone - 4G LTE GSM Unlocked -...</td>\n",
       "      <td>BLU</td>\n",
       "      <td>129.99</td>\n",
       "      <td>5</td>\n",
       "      <td>For comparison, the past few years I've owned ...</td>\n",
       "      <td>0.0</td>\n",
       "    </tr>\n",
       "    <tr>\n",
       "      <th>291391</th>\n",
       "      <td>Pantech Pocket P9060 Unlocked GSM Phone with A...</td>\n",
       "      <td>NaN</td>\n",
       "      <td>54.88</td>\n",
       "      <td>5</td>\n",
       "      <td>Great gift. Easy to use .memory is absorbed by...</td>\n",
       "      <td>0.0</td>\n",
       "    </tr>\n",
       "  </tbody>\n",
       "</table>\n",
       "</div>"
      ],
      "text/plain": [
       "                                             Product Name Brand Name   Price  \\\n",
       "58569   Apple iPhone 6 Plus Factory Unlocked Cellphone...      Apple  605.00   \n",
       "322490  Samsung Galaxy Note 3 (SM-N900V) - 32GB Verizo...    Samsung  209.99   \n",
       "169178  CNPGD [U.S. Office Extended Warranty] Smartwat...      CNPGD   59.99   \n",
       "131761  BLU PURE XL Smartphone - 4G LTE GSM Unlocked -...        BLU  129.99   \n",
       "291391  Pantech Pocket P9060 Unlocked GSM Phone with A...        NaN   54.88   \n",
       "\n",
       "        Rating                                            Reviews  \\\n",
       "58569        4  It arrived early; however, seems to work bette...   \n",
       "322490       5  I bought this phone hoping for the best and so...   \n",
       "169178       1  This is the worst thing ever happen to me I bo...   \n",
       "131761       5  For comparison, the past few years I've owned ...   \n",
       "291391       5  Great gift. Easy to use .memory is absorbed by...   \n",
       "\n",
       "        Review Votes  \n",
       "58569            0.0  \n",
       "322490           2.0  \n",
       "169178           1.0  \n",
       "131761           0.0  \n",
       "291391           0.0  "
      ]
     },
     "execution_count": 71,
     "metadata": {},
     "output_type": "execute_result"
    }
   ],
   "source": [
    "df = pd.read_csv(\"Amazon_Unlocked_Mobile.csv\")\n",
    "df.sample(5)"
   ]
  },
  {
   "cell_type": "markdown",
   "id": "c9433e74",
   "metadata": {},
   "source": [
    "**Drop null values**"
   ]
  },
  {
   "cell_type": "code",
   "execution_count": 72,
   "id": "be68ec78",
   "metadata": {},
   "outputs": [],
   "source": [
    "df = df.dropna()"
   ]
  },
  {
   "cell_type": "markdown",
   "id": "f0a802ff",
   "metadata": {},
   "source": [
    "**Remove neutral rating**"
   ]
  },
  {
   "cell_type": "code",
   "execution_count": 73,
   "id": "93ee169b",
   "metadata": {},
   "outputs": [],
   "source": [
    "df = df[df[\"Rating\"] != 3]"
   ]
  },
  {
   "cell_type": "markdown",
   "id": "b2664258",
   "metadata": {},
   "source": [
    "**Encode 4 & 5 as 1 (positive) and 1 & 2 as 0 (negative)**"
   ]
  },
  {
   "cell_type": "code",
   "execution_count": 74,
   "id": "ec6dfa53",
   "metadata": {},
   "outputs": [
    {
     "data": {
      "text/html": [
       "<div>\n",
       "<style scoped>\n",
       "    .dataframe tbody tr th:only-of-type {\n",
       "        vertical-align: middle;\n",
       "    }\n",
       "\n",
       "    .dataframe tbody tr th {\n",
       "        vertical-align: top;\n",
       "    }\n",
       "\n",
       "    .dataframe thead th {\n",
       "        text-align: right;\n",
       "    }\n",
       "</style>\n",
       "<table border=\"1\" class=\"dataframe\">\n",
       "  <thead>\n",
       "    <tr style=\"text-align: right;\">\n",
       "      <th></th>\n",
       "      <th>Product Name</th>\n",
       "      <th>Brand Name</th>\n",
       "      <th>Price</th>\n",
       "      <th>Rating</th>\n",
       "      <th>Reviews</th>\n",
       "      <th>Review Votes</th>\n",
       "      <th>Positively Rated</th>\n",
       "    </tr>\n",
       "  </thead>\n",
       "  <tbody>\n",
       "    <tr>\n",
       "      <th>107996</th>\n",
       "      <td>BLU Dash 5.5 Smartphone - Unlocked - Retail Pa...</td>\n",
       "      <td>BLU</td>\n",
       "      <td>99.99</td>\n",
       "      <td>5</td>\n",
       "      <td>Great phone, only problem I could not get the ...</td>\n",
       "      <td>1.0</td>\n",
       "      <td>1</td>\n",
       "    </tr>\n",
       "    <tr>\n",
       "      <th>146233</th>\n",
       "      <td>BLU Studio C 5+5 LTE Smartphone - GSM Unlocked...</td>\n",
       "      <td>BLU</td>\n",
       "      <td>99.00</td>\n",
       "      <td>5</td>\n",
       "      <td>The 5 stars is not because this is the best ph...</td>\n",
       "      <td>0.0</td>\n",
       "      <td>1</td>\n",
       "    </tr>\n",
       "    <tr>\n",
       "      <th>60113</th>\n",
       "      <td>Apple iPhone 6 Plus Unlocked Cellphone, 16GB, ...</td>\n",
       "      <td>Apple</td>\n",
       "      <td>519.00</td>\n",
       "      <td>5</td>\n",
       "      <td>nice</td>\n",
       "      <td>0.0</td>\n",
       "      <td>1</td>\n",
       "    </tr>\n",
       "    <tr>\n",
       "      <th>219931</th>\n",
       "      <td>LG G3 D855 16GB Metallic Black Factory Unlocke...</td>\n",
       "      <td>LG</td>\n",
       "      <td>275.00</td>\n",
       "      <td>5</td>\n",
       "      <td>Very good</td>\n",
       "      <td>0.0</td>\n",
       "      <td>1</td>\n",
       "    </tr>\n",
       "    <tr>\n",
       "      <th>348556</th>\n",
       "      <td>Samsung Galaxy S5 G900A 16GB Unlocked GSM 4G L...</td>\n",
       "      <td>Samsung</td>\n",
       "      <td>219.00</td>\n",
       "      <td>1</td>\n",
       "      <td>We could not get this to work with my carrier,...</td>\n",
       "      <td>1.0</td>\n",
       "      <td>0</td>\n",
       "    </tr>\n",
       "  </tbody>\n",
       "</table>\n",
       "</div>"
      ],
      "text/plain": [
       "                                             Product Name Brand Name   Price  \\\n",
       "107996  BLU Dash 5.5 Smartphone - Unlocked - Retail Pa...        BLU   99.99   \n",
       "146233  BLU Studio C 5+5 LTE Smartphone - GSM Unlocked...        BLU   99.00   \n",
       "60113   Apple iPhone 6 Plus Unlocked Cellphone, 16GB, ...      Apple  519.00   \n",
       "219931  LG G3 D855 16GB Metallic Black Factory Unlocke...         LG  275.00   \n",
       "348556  Samsung Galaxy S5 G900A 16GB Unlocked GSM 4G L...    Samsung  219.00   \n",
       "\n",
       "        Rating                                            Reviews  \\\n",
       "107996       5  Great phone, only problem I could not get the ...   \n",
       "146233       5  The 5 stars is not because this is the best ph...   \n",
       "60113        5                                               nice   \n",
       "219931       5                                          Very good   \n",
       "348556       1  We could not get this to work with my carrier,...   \n",
       "\n",
       "        Review Votes  Positively Rated  \n",
       "107996           1.0                 1  \n",
       "146233           0.0                 1  \n",
       "60113            0.0                 1  \n",
       "219931           0.0                 1  \n",
       "348556           1.0                 0  "
      ]
     },
     "execution_count": 74,
     "metadata": {},
     "output_type": "execute_result"
    }
   ],
   "source": [
    "df[\"Positively Rated\"] = np.where(df[\"Rating\"] > 3, 1, 0)\n",
    "df.sample(5)"
   ]
  },
  {
   "cell_type": "markdown",
   "id": "f873d4bd",
   "metadata": {},
   "source": [
    "**Rating distribution**"
   ]
  },
  {
   "cell_type": "code",
   "execution_count": 75,
   "id": "b5d6f348",
   "metadata": {},
   "outputs": [
    {
     "data": {
      "text/plain": [
       "1    230674\n",
       "0     77603\n",
       "Name: Positively Rated, dtype: int64"
      ]
     },
     "execution_count": 75,
     "metadata": {},
     "output_type": "execute_result"
    }
   ],
   "source": [
    "df[\"Positively Rated\"].value_counts()"
   ]
  },
  {
   "cell_type": "markdown",
   "id": "d7314ac6",
   "metadata": {},
   "source": [
    "**Data Preparation**"
   ]
  },
  {
   "cell_type": "code",
   "execution_count": 76,
   "id": "5ef570a3",
   "metadata": {},
   "outputs": [],
   "source": [
    "# Feature\n",
    "X = df[\"Reviews\"]\n",
    "\n",
    "# Target\n",
    "y = df[\"Positively Rated\"]\n",
    "\n",
    "# Split data into training and test set\n",
    "X_train, X_test, y_train, y_test = train_test_split(X,\n",
    "                                                    y,\n",
    "                                                    test_size = 0.2,\n",
    "                                                    random_state = 0,\n",
    "                                                    stratify = y)"
   ]
  },
  {
   "cell_type": "markdown",
   "id": "cb15be9a",
   "metadata": {},
   "source": [
    "### Count Vectorizer"
   ]
  },
  {
   "cell_type": "code",
   "execution_count": 77,
   "id": "bc73f90b",
   "metadata": {},
   "outputs": [
    {
     "data": {
      "text/plain": [
       "54075"
      ]
     },
     "execution_count": 77,
     "metadata": {},
     "output_type": "execute_result"
    }
   ],
   "source": [
    "# Count Vectorizer Object\n",
    "vect = CountVectorizer(stop_words = ENGLISH_STOP_WORDS)\n",
    "\n",
    "# Fit Training Data\n",
    "vect.fit(X_train)\n",
    "\n",
    "# Check Total Features\n",
    "len(vect.get_feature_names())"
   ]
  },
  {
   "cell_type": "markdown",
   "id": "0c5b6a34",
   "metadata": {},
   "source": [
    "**Fit Transform**"
   ]
  },
  {
   "cell_type": "code",
   "execution_count": 78,
   "id": "4da8cac4",
   "metadata": {},
   "outputs": [],
   "source": [
    "# Fit-transform Training Data\n",
    "train_vectorizer = vect.fit_transform(X_train)\n",
    "\n",
    "# Transform Test Data\n",
    "test_vectorizer = vect.transform(X_test)"
   ]
  },
  {
   "cell_type": "markdown",
   "id": "2510de54",
   "metadata": {},
   "source": [
    "**Logistic Regression using CountVectorizer**"
   ]
  },
  {
   "cell_type": "code",
   "execution_count": 79,
   "id": "c025cd10",
   "metadata": {},
   "outputs": [
    {
     "data": {
      "text/html": [
       "<div>\n",
       "<style scoped>\n",
       "    .dataframe tbody tr th:only-of-type {\n",
       "        vertical-align: middle;\n",
       "    }\n",
       "\n",
       "    .dataframe tbody tr th {\n",
       "        vertical-align: top;\n",
       "    }\n",
       "\n",
       "    .dataframe thead th {\n",
       "        text-align: right;\n",
       "    }\n",
       "</style>\n",
       "<table border=\"1\" class=\"dataframe\">\n",
       "  <thead>\n",
       "    <tr style=\"text-align: right;\">\n",
       "      <th></th>\n",
       "      <th>Actual</th>\n",
       "      <th>Predicted</th>\n",
       "    </tr>\n",
       "  </thead>\n",
       "  <tbody>\n",
       "    <tr>\n",
       "      <th>84007</th>\n",
       "      <td>0</td>\n",
       "      <td>0</td>\n",
       "    </tr>\n",
       "    <tr>\n",
       "      <th>240749</th>\n",
       "      <td>1</td>\n",
       "      <td>0</td>\n",
       "    </tr>\n",
       "    <tr>\n",
       "      <th>116097</th>\n",
       "      <td>0</td>\n",
       "      <td>0</td>\n",
       "    </tr>\n",
       "    <tr>\n",
       "      <th>315442</th>\n",
       "      <td>1</td>\n",
       "      <td>1</td>\n",
       "    </tr>\n",
       "    <tr>\n",
       "      <th>188854</th>\n",
       "      <td>1</td>\n",
       "      <td>1</td>\n",
       "    </tr>\n",
       "  </tbody>\n",
       "</table>\n",
       "</div>"
      ],
      "text/plain": [
       "        Actual  Predicted\n",
       "84007        0          0\n",
       "240749       1          0\n",
       "116097       0          0\n",
       "315442       1          1\n",
       "188854       1          1"
      ]
     },
     "execution_count": 79,
     "metadata": {},
     "output_type": "execute_result"
    }
   ],
   "source": [
    "# Logistic Regression\n",
    "lr = LogisticRegression()\n",
    "\n",
    "# Fit Training Data\n",
    "lr.fit(train_vectorizer, y_train)\n",
    "\n",
    "# Prediction\n",
    "lr_pred = lr.predict(test_vectorizer)\n",
    "\n",
    "pd.DataFrame({\"Actual\": y_test,\n",
    "              \"Predicted\": lr_pred}).sample(5)"
   ]
  },
  {
   "cell_type": "markdown",
   "id": "78b4d04a",
   "metadata": {},
   "source": [
    "**Confusion Matrix**"
   ]
  },
  {
   "cell_type": "code",
   "execution_count": 80,
   "id": "5fc38de6",
   "metadata": {},
   "outputs": [
    {
     "data": {
      "text/html": [
       "<div>\n",
       "<style scoped>\n",
       "    .dataframe tbody tr th:only-of-type {\n",
       "        vertical-align: middle;\n",
       "    }\n",
       "\n",
       "    .dataframe tbody tr th {\n",
       "        vertical-align: top;\n",
       "    }\n",
       "\n",
       "    .dataframe thead th {\n",
       "        text-align: right;\n",
       "    }\n",
       "</style>\n",
       "<table border=\"1\" class=\"dataframe\">\n",
       "  <thead>\n",
       "    <tr style=\"text-align: right;\">\n",
       "      <th></th>\n",
       "      <th>0</th>\n",
       "      <th>1</th>\n",
       "    </tr>\n",
       "  </thead>\n",
       "  <tbody>\n",
       "    <tr>\n",
       "      <th>0</th>\n",
       "      <td>13329</td>\n",
       "      <td>2192</td>\n",
       "    </tr>\n",
       "    <tr>\n",
       "      <th>1</th>\n",
       "      <td>1188</td>\n",
       "      <td>44947</td>\n",
       "    </tr>\n",
       "  </tbody>\n",
       "</table>\n",
       "</div>"
      ],
      "text/plain": [
       "       0      1\n",
       "0  13329   2192\n",
       "1   1188  44947"
      ]
     },
     "execution_count": 80,
     "metadata": {},
     "output_type": "execute_result"
    }
   ],
   "source": [
    "pd.DataFrame(confusion_matrix(y_test, lr_pred))"
   ]
  },
  {
   "cell_type": "markdown",
   "id": "7b194022",
   "metadata": {},
   "source": [
    "**Classification Report**"
   ]
  },
  {
   "cell_type": "code",
   "execution_count": 81,
   "id": "604f3ea9",
   "metadata": {},
   "outputs": [
    {
     "name": "stdout",
     "output_type": "stream",
     "text": [
      "              precision    recall  f1-score   support\n",
      "\n",
      "           0       0.92      0.86      0.89     15521\n",
      "           1       0.95      0.97      0.96     46135\n",
      "\n",
      "    accuracy                           0.95     61656\n",
      "   macro avg       0.94      0.92      0.93     61656\n",
      "weighted avg       0.94      0.95      0.94     61656\n",
      "\n"
     ]
    }
   ],
   "source": [
    "print(classification_report(y_test, lr_pred))"
   ]
  },
  {
   "cell_type": "markdown",
   "id": "72792026",
   "metadata": {},
   "source": [
    "**Actual and Predicted Outcome Density Comparison (CountVectorizer)**"
   ]
  },
  {
   "cell_type": "code",
   "execution_count": 94,
   "id": "f11c2b53",
   "metadata": {},
   "outputs": [
    {
     "data": {
      "image/png": "[encoded data removed]",
      "text/plain": [
       "<Figure size 1368x504 with 1 Axes>"
      ]
     },
     "metadata": {
      "needs_background": "light"
     },
     "output_type": "display_data"
    }
   ],
   "source": [
    "plt.figure(figsize = (19, 7))\n",
    "sns.kdeplot(y_test, label = \"Actual\", linewidth = 3, color = \"blue\")\n",
    "sns.kdeplot(lr_pred, label = \"Predicted\", linewidth = 3, color = \"red\")\n",
    "plt.title(\"Actual and Predicted Outcome Density Comparison (CountVectorizer)\", color = \"blue\", size = 20)\n",
    "plt.xlabel(\"Review\", size = 20, color = \"blue\")\n",
    "plt.ylabel(\"Density\", size = 20, color = \"blue\")\n",
    "plt.xticks(size = 15)\n",
    "plt.yticks(size = 15)\n",
    "plt.legend(prop={\"size\":15})\n",
    "plt.show()"
   ]
  },
  {
   "cell_type": "markdown",
   "id": "233865a8",
   "metadata": {},
   "source": [
    "**Custom Prediction**"
   ]
  },
  {
   "cell_type": "code",
   "execution_count": 88,
   "id": "fffd3518",
   "metadata": {},
   "outputs": [
    {
     "name": "stdout",
     "output_type": "stream",
     "text": [
      "[1 1]\n"
     ]
    }
   ],
   "source": [
    "cplr = lr.predict(vect.transform(['not an issue, phone is working',\n",
    "                                'an issue, phone is not working']))\n",
    "print(cplr)"
   ]
  },
  {
   "cell_type": "markdown",
   "id": "ca47fc6f",
   "metadata": {},
   "source": [
    "### TfidfVectorizer"
   ]
  },
  {
   "cell_type": "code",
   "execution_count": 89,
   "id": "65092368",
   "metadata": {},
   "outputs": [],
   "source": [
    "# TfidfVectorizer Object\n",
    "tfidf = TfidfVectorizer(stop_words = ENGLISH_STOP_WORDS)\n",
    "\n",
    "# Fit Transform Training Data\n",
    "tfidf_train = tfidf.fit_transform(X_train)\n",
    "\n",
    "# Transform Test Data\n",
    "tfidf_test = tfidf.transform(X_test)"
   ]
  },
  {
   "cell_type": "markdown",
   "id": "02b05613",
   "metadata": {},
   "source": [
    "**Logistic Regression using TfidfVectorizer**"
   ]
  },
  {
   "cell_type": "code",
   "execution_count": 90,
   "id": "fe26dab2",
   "metadata": {},
   "outputs": [
    {
     "data": {
      "text/html": [
       "<div>\n",
       "<style scoped>\n",
       "    .dataframe tbody tr th:only-of-type {\n",
       "        vertical-align: middle;\n",
       "    }\n",
       "\n",
       "    .dataframe tbody tr th {\n",
       "        vertical-align: top;\n",
       "    }\n",
       "\n",
       "    .dataframe thead th {\n",
       "        text-align: right;\n",
       "    }\n",
       "</style>\n",
       "<table border=\"1\" class=\"dataframe\">\n",
       "  <thead>\n",
       "    <tr style=\"text-align: right;\">\n",
       "      <th></th>\n",
       "      <th>Actual</th>\n",
       "      <th>Predicted</th>\n",
       "    </tr>\n",
       "  </thead>\n",
       "  <tbody>\n",
       "    <tr>\n",
       "      <th>292326</th>\n",
       "      <td>1</td>\n",
       "      <td>1</td>\n",
       "    </tr>\n",
       "    <tr>\n",
       "      <th>67564</th>\n",
       "      <td>0</td>\n",
       "      <td>1</td>\n",
       "    </tr>\n",
       "    <tr>\n",
       "      <th>396134</th>\n",
       "      <td>1</td>\n",
       "      <td>0</td>\n",
       "    </tr>\n",
       "    <tr>\n",
       "      <th>102681</th>\n",
       "      <td>0</td>\n",
       "      <td>1</td>\n",
       "    </tr>\n",
       "    <tr>\n",
       "      <th>75405</th>\n",
       "      <td>1</td>\n",
       "      <td>1</td>\n",
       "    </tr>\n",
       "  </tbody>\n",
       "</table>\n",
       "</div>"
      ],
      "text/plain": [
       "        Actual  Predicted\n",
       "292326       1          1\n",
       "67564        0          1\n",
       "396134       1          0\n",
       "102681       0          1\n",
       "75405        1          1"
      ]
     },
     "execution_count": 90,
     "metadata": {},
     "output_type": "execute_result"
    }
   ],
   "source": [
    "# Logistic Regression Object\n",
    "lrtv = LogisticRegression()\n",
    "\n",
    "# Fit training set\n",
    "lrtv.fit(tfidf_train, y_train)\n",
    "\n",
    "# Prediction\n",
    "pred_lrtv = lrtv.predict(tfidf_test)\n",
    "\n",
    "# Actual and Predicted Values\n",
    "pd.DataFrame({\"Actual\": y_test,\n",
    "              \"Predicted\": pred_lrtv}).sample(5)"
   ]
  },
  {
   "cell_type": "markdown",
   "id": "e698f78b",
   "metadata": {},
   "source": [
    "**Confusion Matrix**"
   ]
  },
  {
   "cell_type": "code",
   "execution_count": 91,
   "id": "a9213cf4",
   "metadata": {},
   "outputs": [
    {
     "data": {
      "text/html": [
       "<div>\n",
       "<style scoped>\n",
       "    .dataframe tbody tr th:only-of-type {\n",
       "        vertical-align: middle;\n",
       "    }\n",
       "\n",
       "    .dataframe tbody tr th {\n",
       "        vertical-align: top;\n",
       "    }\n",
       "\n",
       "    .dataframe thead th {\n",
       "        text-align: right;\n",
       "    }\n",
       "</style>\n",
       "<table border=\"1\" class=\"dataframe\">\n",
       "  <thead>\n",
       "    <tr style=\"text-align: right;\">\n",
       "      <th></th>\n",
       "      <th>0</th>\n",
       "      <th>1</th>\n",
       "    </tr>\n",
       "  </thead>\n",
       "  <tbody>\n",
       "    <tr>\n",
       "      <th>0</th>\n",
       "      <td>13440</td>\n",
       "      <td>2081</td>\n",
       "    </tr>\n",
       "    <tr>\n",
       "      <th>1</th>\n",
       "      <td>1378</td>\n",
       "      <td>44757</td>\n",
       "    </tr>\n",
       "  </tbody>\n",
       "</table>\n",
       "</div>"
      ],
      "text/plain": [
       "       0      1\n",
       "0  13440   2081\n",
       "1   1378  44757"
      ]
     },
     "execution_count": 91,
     "metadata": {},
     "output_type": "execute_result"
    }
   ],
   "source": [
    "pd.DataFrame(confusion_matrix(y_test, pred_lrtv))"
   ]
  },
  {
   "cell_type": "markdown",
   "id": "ce0a9ebd",
   "metadata": {},
   "source": [
    "**Classification Report**"
   ]
  },
  {
   "cell_type": "code",
   "execution_count": 92,
   "id": "b1e6a7ae",
   "metadata": {},
   "outputs": [
    {
     "name": "stdout",
     "output_type": "stream",
     "text": [
      "              precision    recall  f1-score   support\n",
      "\n",
      "           0       0.91      0.87      0.89     15521\n",
      "           1       0.96      0.97      0.96     46135\n",
      "\n",
      "    accuracy                           0.94     61656\n",
      "   macro avg       0.93      0.92      0.92     61656\n",
      "weighted avg       0.94      0.94      0.94     61656\n",
      "\n"
     ]
    }
   ],
   "source": [
    "print(classification_report(y_test, pred_lrtv))"
   ]
  },
  {
   "cell_type": "markdown",
   "id": "e4226502",
   "metadata": {},
   "source": [
    "**Actual and Predicted Outcome Density Comparison (TfidfVectorizer)**"
   ]
  },
  {
   "cell_type": "code",
   "execution_count": 93,
   "id": "7efb4c81",
   "metadata": {},
   "outputs": [
    {
     "data": {
      "image/png": "[encoded data removed]",
      "text/plain": [
       "<Figure size 1368x504 with 1 Axes>"
      ]
     },
     "metadata": {
      "needs_background": "light"
     },
     "output_type": "display_data"
    }
   ],
   "source": [
    "plt.figure(figsize = (19, 7))\n",
    "sns.kdeplot(y_test, label = \"Actual\", linewidth = 3, color = \"red\")\n",
    "sns.kdeplot(pred_lrtv, label = \"Predicted\", linewidth = 3, color = \"blue\")\n",
    "plt.title(\"Actual and Predicted Outcome Density Comparison (TfidfVectorizer)\", color = \"red\", size = 20)\n",
    "plt.xlabel(\"Review\", size = 20, color = \"red\")\n",
    "plt.ylabel(\"Density\", size = 20, color = \"red\")\n",
    "plt.xticks(size = 15)\n",
    "plt.yticks(size = 15)\n",
    "plt.legend(prop={\"size\":15})\n",
    "plt.show()"
   ]
  },
  {
   "cell_type": "markdown",
   "id": "54f01e72",
   "metadata": {},
   "source": [
    "**Custom Prediction**"
   ]
  },
  {
   "cell_type": "code",
   "execution_count": 95,
   "id": "e24f1779",
   "metadata": {},
   "outputs": [
    {
     "name": "stdout",
     "output_type": "stream",
     "text": [
      "[1 1]\n"
     ]
    }
   ],
   "source": [
    "cptv = lrtv.predict(tfidf.transform(['not an issue, phone is working',\n",
    "                                    'an issue, phone is not working']))\n",
    "print(cptv)"
   ]
  },
  {
   "cell_type": "markdown",
   "id": "bd60d17e",
   "metadata": {},
   "source": [
    "### n-grams"
   ]
  },
  {
   "cell_type": "code",
   "execution_count": 111,
   "id": "36276df5",
   "metadata": {},
   "outputs": [],
   "source": [
    "# Count Vectorizer with Bigram\n",
    "vect = CountVectorizer(min_df=5, ngram_range=(1,2))\n",
    "\n",
    "# Fit Transform Training Data\n",
    "vectg_train = vect.fit_transform(X_train)\n",
    "\n",
    "# Transform Test Data\n",
    "vectg_test = vect.transform(X_test)"
   ]
  },
  {
   "cell_type": "markdown",
   "id": "0206be0c",
   "metadata": {},
   "source": [
    "**Logistic Regression (ngram)**"
   ]
  },
  {
   "cell_type": "code",
   "execution_count": 112,
   "id": "2dba7d65",
   "metadata": {},
   "outputs": [
    {
     "data": {
      "text/html": [
       "<div>\n",
       "<style scoped>\n",
       "    .dataframe tbody tr th:only-of-type {\n",
       "        vertical-align: middle;\n",
       "    }\n",
       "\n",
       "    .dataframe tbody tr th {\n",
       "        vertical-align: top;\n",
       "    }\n",
       "\n",
       "    .dataframe thead th {\n",
       "        text-align: right;\n",
       "    }\n",
       "</style>\n",
       "<table border=\"1\" class=\"dataframe\">\n",
       "  <thead>\n",
       "    <tr style=\"text-align: right;\">\n",
       "      <th></th>\n",
       "      <th>Actual</th>\n",
       "      <th>Predicted</th>\n",
       "    </tr>\n",
       "  </thead>\n",
       "  <tbody>\n",
       "    <tr>\n",
       "      <th>158382</th>\n",
       "      <td>1</td>\n",
       "      <td>1</td>\n",
       "    </tr>\n",
       "    <tr>\n",
       "      <th>317167</th>\n",
       "      <td>1</td>\n",
       "      <td>1</td>\n",
       "    </tr>\n",
       "    <tr>\n",
       "      <th>159753</th>\n",
       "      <td>0</td>\n",
       "      <td>1</td>\n",
       "    </tr>\n",
       "    <tr>\n",
       "      <th>276781</th>\n",
       "      <td>1</td>\n",
       "      <td>1</td>\n",
       "    </tr>\n",
       "    <tr>\n",
       "      <th>338642</th>\n",
       "      <td>1</td>\n",
       "      <td>1</td>\n",
       "    </tr>\n",
       "  </tbody>\n",
       "</table>\n",
       "</div>"
      ],
      "text/plain": [
       "        Actual  Predicted\n",
       "158382       1          1\n",
       "317167       1          1\n",
       "159753       0          1\n",
       "276781       1          1\n",
       "338642       1          1"
      ]
     },
     "execution_count": 112,
     "metadata": {},
     "output_type": "execute_result"
    }
   ],
   "source": [
    "# Logistic Regression Object\n",
    "lr_n = LogisticRegression()\n",
    "\n",
    "# fit training Data\n",
    "\n",
    "lr_n.fit(vectg_train, y_train)\n",
    "\n",
    "# Prediction\n",
    "lrm_pred = lr_n.predict(vectg_test)\n",
    "\n",
    "# Actual vs Predicted Values\n",
    "pd.DataFrame({\"Actual\": y_test,\n",
    "              \"Predicted\": lrm_pred}).sample(5)"
   ]
  },
  {
   "cell_type": "markdown",
   "id": "795b7218",
   "metadata": {},
   "source": [
    "**Confusion Matrix**"
   ]
  },
  {
   "cell_type": "code",
   "execution_count": 113,
   "id": "986bc5b8",
   "metadata": {},
   "outputs": [
    {
     "data": {
      "text/html": [
       "<div>\n",
       "<style scoped>\n",
       "    .dataframe tbody tr th:only-of-type {\n",
       "        vertical-align: middle;\n",
       "    }\n",
       "\n",
       "    .dataframe tbody tr th {\n",
       "        vertical-align: top;\n",
       "    }\n",
       "\n",
       "    .dataframe thead th {\n",
       "        text-align: right;\n",
       "    }\n",
       "</style>\n",
       "<table border=\"1\" class=\"dataframe\">\n",
       "  <thead>\n",
       "    <tr style=\"text-align: right;\">\n",
       "      <th></th>\n",
       "      <th>0</th>\n",
       "      <th>1</th>\n",
       "    </tr>\n",
       "  </thead>\n",
       "  <tbody>\n",
       "    <tr>\n",
       "      <th>0</th>\n",
       "      <td>14589</td>\n",
       "      <td>932</td>\n",
       "    </tr>\n",
       "    <tr>\n",
       "      <th>1</th>\n",
       "      <td>665</td>\n",
       "      <td>45470</td>\n",
       "    </tr>\n",
       "  </tbody>\n",
       "</table>\n",
       "</div>"
      ],
      "text/plain": [
       "       0      1\n",
       "0  14589    932\n",
       "1    665  45470"
      ]
     },
     "execution_count": 113,
     "metadata": {},
     "output_type": "execute_result"
    }
   ],
   "source": [
    "pd.DataFrame(confusion_matrix(y_test, lrm_pred))"
   ]
  },
  {
   "cell_type": "markdown",
   "id": "4fd3553d",
   "metadata": {},
   "source": [
    "**Classification Report**"
   ]
  },
  {
   "cell_type": "code",
   "execution_count": 114,
   "id": "e597aa8b",
   "metadata": {},
   "outputs": [
    {
     "name": "stdout",
     "output_type": "stream",
     "text": [
      "              precision    recall  f1-score   support\n",
      "\n",
      "           0       0.96      0.94      0.95     15521\n",
      "           1       0.98      0.99      0.98     46135\n",
      "\n",
      "    accuracy                           0.97     61656\n",
      "   macro avg       0.97      0.96      0.97     61656\n",
      "weighted avg       0.97      0.97      0.97     61656\n",
      "\n"
     ]
    }
   ],
   "source": [
    "print(classification_report(y_test, lrm_pred))"
   ]
  },
  {
   "cell_type": "markdown",
   "id": "5692e0f8",
   "metadata": {},
   "source": [
    "**Actual and Predicted Outcome Density Comparison (Ngram)**"
   ]
  },
  {
   "cell_type": "code",
   "execution_count": 115,
   "id": "f2dd8951",
   "metadata": {},
   "outputs": [
    {
     "data": {
      "image/png": "[encoded data removed]",
      "text/plain": [
       "<Figure size 1368x504 with 1 Axes>"
      ]
     },
     "metadata": {
      "needs_background": "light"
     },
     "output_type": "display_data"
    }
   ],
   "source": [
    "plt.figure(figsize = (19, 7))\n",
    "sns.kdeplot(y_test, label = \"Actual\", linewidth = 3, color = \"yellow\")\n",
    "sns.kdeplot(lrm_pred, label = \"Predicted\", linewidth = 3, color = \"orange\")\n",
    "plt.title(\"Actual and Predicted Outcome Density Comparison (Ngram)\", size = 20)\n",
    "plt.xlabel(\"Review\", size = 20)\n",
    "plt.ylabel(\"Density\", size = 20)\n",
    "plt.xticks(size = 15)\n",
    "plt.yticks(size = 15)\n",
    "plt.legend(prop={\"size\":15})\n",
    "plt.show()"
   ]
  },
  {
   "cell_type": "markdown",
   "id": "a991f4b0",
   "metadata": {},
   "source": [
    "**Custom Prediction (Ngram)**"
   ]
  },
  {
   "cell_type": "code",
   "execution_count": 116,
   "id": "92473eb6",
   "metadata": {},
   "outputs": [
    {
     "data": {
      "text/plain": [
       "array([1, 0])"
      ]
     },
     "execution_count": 116,
     "metadata": {},
     "output_type": "execute_result"
    }
   ],
   "source": [
    "cpn = lr_n.predict(vect.transform(['not an issue, phone is working',\n",
    "                                    'an issue, phone is not working']))\n",
    "cpn"
   ]
  },
  {
   "cell_type": "markdown",
   "id": "e50bda0e",
   "metadata": {},
   "source": [
    "### Spam Classification"
   ]
  },
  {
   "cell_type": "code",
   "execution_count": 117,
   "id": "ad5641fc",
   "metadata": {},
   "outputs": [
    {
     "data": {
      "text/html": [
       "<div>\n",
       "<style scoped>\n",
       "    .dataframe tbody tr th:only-of-type {\n",
       "        vertical-align: middle;\n",
       "    }\n",
       "\n",
       "    .dataframe tbody tr th {\n",
       "        vertical-align: top;\n",
       "    }\n",
       "\n",
       "    .dataframe thead th {\n",
       "        text-align: right;\n",
       "    }\n",
       "</style>\n",
       "<table border=\"1\" class=\"dataframe\">\n",
       "  <thead>\n",
       "    <tr style=\"text-align: right;\">\n",
       "      <th></th>\n",
       "      <th>text</th>\n",
       "      <th>target</th>\n",
       "    </tr>\n",
       "  </thead>\n",
       "  <tbody>\n",
       "    <tr>\n",
       "      <th>47</th>\n",
       "      <td>Fair enough, anything going on?</td>\n",
       "      <td>ham</td>\n",
       "    </tr>\n",
       "    <tr>\n",
       "      <th>3878</th>\n",
       "      <td>She left it very vague. She just said she woul...</td>\n",
       "      <td>ham</td>\n",
       "    </tr>\n",
       "    <tr>\n",
       "      <th>5374</th>\n",
       "      <td>Do u konw waht is rael FRIENDSHIP Im gving yuo...</td>\n",
       "      <td>ham</td>\n",
       "    </tr>\n",
       "    <tr>\n",
       "      <th>3987</th>\n",
       "      <td>Hello. Sort of out in town already. That . So ...</td>\n",
       "      <td>ham</td>\n",
       "    </tr>\n",
       "    <tr>\n",
       "      <th>4519</th>\n",
       "      <td>What to think no one saying clearly. Ok leave ...</td>\n",
       "      <td>ham</td>\n",
       "    </tr>\n",
       "  </tbody>\n",
       "</table>\n",
       "</div>"
      ],
      "text/plain": [
       "                                                   text target\n",
       "47                      Fair enough, anything going on?    ham\n",
       "3878  She left it very vague. She just said she woul...    ham\n",
       "5374  Do u konw waht is rael FRIENDSHIP Im gving yuo...    ham\n",
       "3987  Hello. Sort of out in town already. That . So ...    ham\n",
       "4519  What to think no one saying clearly. Ok leave ...    ham"
      ]
     },
     "execution_count": 117,
     "metadata": {},
     "output_type": "execute_result"
    }
   ],
   "source": [
    "# Print 5 Samples\n",
    "\n",
    "df = pd.read_csv(\"spam.csv\")\n",
    "df.sample(5)"
   ]
  },
  {
   "cell_type": "markdown",
   "id": "b17e47d0",
   "metadata": {},
   "source": [
    "**Assign Labels**"
   ]
  },
  {
   "cell_type": "code",
   "execution_count": 119,
   "id": "79f48fd0",
   "metadata": {},
   "outputs": [
    {
     "data": {
      "text/html": [
       "<div>\n",
       "<style scoped>\n",
       "    .dataframe tbody tr th:only-of-type {\n",
       "        vertical-align: middle;\n",
       "    }\n",
       "\n",
       "    .dataframe tbody tr th {\n",
       "        vertical-align: top;\n",
       "    }\n",
       "\n",
       "    .dataframe thead th {\n",
       "        text-align: right;\n",
       "    }\n",
       "</style>\n",
       "<table border=\"1\" class=\"dataframe\">\n",
       "  <thead>\n",
       "    <tr style=\"text-align: right;\">\n",
       "      <th></th>\n",
       "      <th>text</th>\n",
       "      <th>target</th>\n",
       "    </tr>\n",
       "  </thead>\n",
       "  <tbody>\n",
       "    <tr>\n",
       "      <th>4830</th>\n",
       "      <td>Po de :-):):-):-):-). No need job aha.</td>\n",
       "      <td>0</td>\n",
       "    </tr>\n",
       "    <tr>\n",
       "      <th>5418</th>\n",
       "      <td>So how are you really. What are you up to. How...</td>\n",
       "      <td>0</td>\n",
       "    </tr>\n",
       "    <tr>\n",
       "      <th>2801</th>\n",
       "      <td>And smile for me right now as you go and the w...</td>\n",
       "      <td>0</td>\n",
       "    </tr>\n",
       "    <tr>\n",
       "      <th>1961</th>\n",
       "      <td>LOL that would be awesome payback.</td>\n",
       "      <td>0</td>\n",
       "    </tr>\n",
       "    <tr>\n",
       "      <th>4386</th>\n",
       "      <td>S.i'm watching it in live..</td>\n",
       "      <td>0</td>\n",
       "    </tr>\n",
       "  </tbody>\n",
       "</table>\n",
       "</div>"
      ],
      "text/plain": [
       "                                                   text  target\n",
       "4830             Po de :-):):-):-):-). No need job aha.       0\n",
       "5418  So how are you really. What are you up to. How...       0\n",
       "2801  And smile for me right now as you go and the w...       0\n",
       "1961                 LOL that would be awesome payback.       0\n",
       "4386                        S.i'm watching it in live..       0"
      ]
     },
     "execution_count": 119,
     "metadata": {},
     "output_type": "execute_result"
    }
   ],
   "source": [
    "df[\"target\"] = np.where(df[\"target\"] == \"spam\", 1, 0)\n",
    "df.sample(5)"
   ]
  },
  {
   "cell_type": "markdown",
   "id": "98740af5",
   "metadata": {},
   "source": [
    "**Percentage of Spam**"
   ]
  },
  {
   "cell_type": "code",
   "execution_count": 129,
   "id": "5aab118a",
   "metadata": {},
   "outputs": [
    {
     "data": {
      "text/html": [
       "<div>\n",
       "<style scoped>\n",
       "    .dataframe tbody tr th:only-of-type {\n",
       "        vertical-align: middle;\n",
       "    }\n",
       "\n",
       "    .dataframe tbody tr th {\n",
       "        vertical-align: top;\n",
       "    }\n",
       "\n",
       "    .dataframe thead th {\n",
       "        text-align: right;\n",
       "    }\n",
       "</style>\n",
       "<table border=\"1\" class=\"dataframe\">\n",
       "  <thead>\n",
       "    <tr style=\"text-align: right;\">\n",
       "      <th></th>\n",
       "      <th>target</th>\n",
       "    </tr>\n",
       "  </thead>\n",
       "  <tbody>\n",
       "    <tr>\n",
       "      <th>0</th>\n",
       "      <td>86.59</td>\n",
       "    </tr>\n",
       "    <tr>\n",
       "      <th>1</th>\n",
       "      <td>13.41</td>\n",
       "    </tr>\n",
       "  </tbody>\n",
       "</table>\n",
       "</div>"
      ],
      "text/plain": [
       "   target\n",
       "0   86.59\n",
       "1   13.41"
      ]
     },
     "execution_count": 129,
     "metadata": {},
     "output_type": "execute_result"
    }
   ],
   "source": [
    "pd.DataFrame((df[\"target\"].value_counts(normalize = True) * 100).round(2))"
   ]
  },
  {
   "cell_type": "markdown",
   "id": "06aeca6d",
   "metadata": {},
   "source": [
    "**Length of Documents**"
   ]
  },
  {
   "cell_type": "code",
   "execution_count": 158,
   "id": "a9076d44",
   "metadata": {},
   "outputs": [],
   "source": [
    "df[\"characters\"] = df[\"text\"].str.len()"
   ]
  },
  {
   "cell_type": "code",
   "execution_count": 166,
   "id": "8033a1c9",
   "metadata": {},
   "outputs": [
    {
     "name": "stdout",
     "output_type": "stream",
     "text": [
      "Average Length of Spam Documents = 138.87\n"
     ]
    }
   ],
   "source": [
    "# Spam Documents Length\n",
    "\n",
    "dfs = df[df[\"target\"] == 1]\n",
    "print(\"Average Length of Spam Documents =\", round(dfs[\"characters\"].mean(), 2))"
   ]
  },
  {
   "cell_type": "markdown",
   "id": "1b6bdc13",
   "metadata": {},
   "source": [
    "**Ham Document Length**"
   ]
  },
  {
   "cell_type": "code",
   "execution_count": 167,
   "id": "92bf276a",
   "metadata": {},
   "outputs": [
    {
     "name": "stdout",
     "output_type": "stream",
     "text": [
      "Average Length of Ham Documents = 71.02\n"
     ]
    }
   ],
   "source": [
    "# Ham Documents Length\n",
    "\n",
    "dfh = df[df[\"target\"] == 0]\n",
    "print(\"Average Length of Ham Documents =\", round(dfh[\"characters\"].mean(), 2))"
   ]
  },
  {
   "cell_type": "markdown",
   "id": "8e532d9c",
   "metadata": {},
   "source": [
    "**Data Preparation**"
   ]
  },
  {
   "cell_type": "code",
   "execution_count": 131,
   "id": "69b08d4c",
   "metadata": {},
   "outputs": [],
   "source": [
    "# Feature\n",
    "X = df[\"text\"]\n",
    "\n",
    "# Target\n",
    "y = df[\"target\"]\n",
    "\n",
    "X_train, X_test, y_train, y_test = train_test_split(X, \n",
    "                                                    y,\n",
    "                                                    test_size = 0.1,\n",
    "                                                    stratify = y,\n",
    "                                                    random_state = 0)"
   ]
  },
  {
   "cell_type": "markdown",
   "id": "bbfc9ba1",
   "metadata": {},
   "source": [
    "### Count Vectorizer"
   ]
  },
  {
   "cell_type": "code",
   "execution_count": 137,
   "id": "ba91f29f",
   "metadata": {},
   "outputs": [],
   "source": [
    "# Count Vectorizer Object\n",
    "vect = CountVectorizer(stop_words = ENGLISH_STOP_WORDS)\n",
    "\n",
    "# Fit Transform Training Set\n",
    "vect_train = vect.fit_transform(X_train)\n",
    "\n",
    "# Transform Test Set\n",
    "vect_test = vect.transform(X_test)"
   ]
  },
  {
   "cell_type": "markdown",
   "id": "d498d0f2",
   "metadata": {},
   "source": [
    "**Multinomial Naive Bayes**"
   ]
  },
  {
   "cell_type": "code",
   "execution_count": 139,
   "id": "ec32524d",
   "metadata": {},
   "outputs": [
    {
     "data": {
      "text/html": [
       "<div>\n",
       "<style scoped>\n",
       "    .dataframe tbody tr th:only-of-type {\n",
       "        vertical-align: middle;\n",
       "    }\n",
       "\n",
       "    .dataframe tbody tr th {\n",
       "        vertical-align: top;\n",
       "    }\n",
       "\n",
       "    .dataframe thead th {\n",
       "        text-align: right;\n",
       "    }\n",
       "</style>\n",
       "<table border=\"1\" class=\"dataframe\">\n",
       "  <thead>\n",
       "    <tr style=\"text-align: right;\">\n",
       "      <th></th>\n",
       "      <th>Actual</th>\n",
       "      <th>Predicted</th>\n",
       "    </tr>\n",
       "  </thead>\n",
       "  <tbody>\n",
       "    <tr>\n",
       "      <th>2287</th>\n",
       "      <td>0</td>\n",
       "      <td>0</td>\n",
       "    </tr>\n",
       "    <tr>\n",
       "      <th>2233</th>\n",
       "      <td>0</td>\n",
       "      <td>0</td>\n",
       "    </tr>\n",
       "    <tr>\n",
       "      <th>1553</th>\n",
       "      <td>0</td>\n",
       "      <td>0</td>\n",
       "    </tr>\n",
       "    <tr>\n",
       "      <th>864</th>\n",
       "      <td>0</td>\n",
       "      <td>0</td>\n",
       "    </tr>\n",
       "    <tr>\n",
       "      <th>323</th>\n",
       "      <td>0</td>\n",
       "      <td>0</td>\n",
       "    </tr>\n",
       "  </tbody>\n",
       "</table>\n",
       "</div>"
      ],
      "text/plain": [
       "      Actual  Predicted\n",
       "2287       0          0\n",
       "2233       0          0\n",
       "1553       0          0\n",
       "864        0          0\n",
       "323        0          0"
      ]
     },
     "execution_count": 139,
     "metadata": {},
     "output_type": "execute_result"
    }
   ],
   "source": [
    "# MultinomialNB Object\n",
    "nb = MultinomialNB(alpha = 0.1)\n",
    "\n",
    "# Fit Training Set\n",
    "nb.fit(vect_train, y_train)\n",
    "\n",
    "# Prediction\n",
    "nb_pred = nb.predict(vect_test)\n",
    "\n",
    "# Actual vs Predicted Values\n",
    "pd.DataFrame({\"Actual\": y_test,\n",
    "              \"Predicted\": nb_pred}).sample(5)"
   ]
  },
  {
   "cell_type": "markdown",
   "id": "e02ca836",
   "metadata": {},
   "source": [
    "**Confusion Matrix**"
   ]
  },
  {
   "cell_type": "code",
   "execution_count": 143,
   "id": "677b7466",
   "metadata": {},
   "outputs": [
    {
     "data": {
      "text/html": [
       "<div>\n",
       "<style scoped>\n",
       "    .dataframe tbody tr th:only-of-type {\n",
       "        vertical-align: middle;\n",
       "    }\n",
       "\n",
       "    .dataframe tbody tr th {\n",
       "        vertical-align: top;\n",
       "    }\n",
       "\n",
       "    .dataframe thead th {\n",
       "        text-align: right;\n",
       "    }\n",
       "</style>\n",
       "<table border=\"1\" class=\"dataframe\">\n",
       "  <thead>\n",
       "    <tr style=\"text-align: right;\">\n",
       "      <th></th>\n",
       "      <th>0</th>\n",
       "      <th>1</th>\n",
       "    </tr>\n",
       "  </thead>\n",
       "  <tbody>\n",
       "    <tr>\n",
       "      <th>0</th>\n",
       "      <td>479</td>\n",
       "      <td>4</td>\n",
       "    </tr>\n",
       "    <tr>\n",
       "      <th>1</th>\n",
       "      <td>9</td>\n",
       "      <td>66</td>\n",
       "    </tr>\n",
       "  </tbody>\n",
       "</table>\n",
       "</div>"
      ],
      "text/plain": [
       "     0   1\n",
       "0  479   4\n",
       "1    9  66"
      ]
     },
     "execution_count": 143,
     "metadata": {},
     "output_type": "execute_result"
    }
   ],
   "source": [
    "pd.DataFrame(confusion_matrix(y_test, nb_pred))"
   ]
  },
  {
   "cell_type": "markdown",
   "id": "ecb90a71",
   "metadata": {},
   "source": [
    "**Classification Report**"
   ]
  },
  {
   "cell_type": "code",
   "execution_count": 144,
   "id": "a907d067",
   "metadata": {},
   "outputs": [
    {
     "name": "stdout",
     "output_type": "stream",
     "text": [
      "              precision    recall  f1-score   support\n",
      "\n",
      "           0       0.98      0.99      0.99       483\n",
      "           1       0.94      0.88      0.91        75\n",
      "\n",
      "    accuracy                           0.98       558\n",
      "   macro avg       0.96      0.94      0.95       558\n",
      "weighted avg       0.98      0.98      0.98       558\n",
      "\n"
     ]
    }
   ],
   "source": [
    "print(classification_report(y_test, nb_pred))"
   ]
  },
  {
   "cell_type": "markdown",
   "id": "cd416965",
   "metadata": {},
   "source": [
    "**Actual and Predicted Outcome Density Comparison (MultinomialNB)**"
   ]
  },
  {
   "cell_type": "code",
   "execution_count": 155,
   "id": "b5d170d1",
   "metadata": {},
   "outputs": [
    {
     "data": {
      "image/png": "[encoded data removed]",
      "text/plain": [
       "<Figure size 1368x504 with 1 Axes>"
      ]
     },
     "metadata": {
      "needs_background": "light"
     },
     "output_type": "display_data"
    }
   ],
   "source": [
    "plt.figure(figsize = (19, 7))\n",
    "sns.kdeplot(y_test, label = \"Actual\", linewidth = 3, color = \"lime\")\n",
    "sns.kdeplot(nb_pred, label = \"Predicted\", linewidth = 3, color = \"green\")\n",
    "plt.title(\"Actual and Predicted Outcome Density Comparison (MultinomialNB)\", size = 20, color = \"green\")\n",
    "plt.xlabel(\"Target\", size = 20, color = \"green\")\n",
    "plt.ylabel(\"Density\", size = 20, color = \"green\")\n",
    "plt.xticks(size = 15)\n",
    "plt.yticks(size = 15)\n",
    "plt.legend(prop={\"size\":15})\n",
    "plt.show()"
   ]
  },
  {
   "cell_type": "markdown",
   "id": "a5fe37e9",
   "metadata": {},
   "source": [
    "### Tfidf Vectorizer"
   ]
  },
  {
   "cell_type": "code",
   "execution_count": 146,
   "id": "1d7e286e",
   "metadata": {},
   "outputs": [],
   "source": [
    "# Tfidf Vectorizer Object\n",
    "tfidf = TfidfVectorizer(min_df = 3, stop_words = ENGLISH_STOP_WORDS)\n",
    "\n",
    "# Fit Trasform Training Set\n",
    "tfidf_train = tfidf.fit_transform(X_train)\n",
    "\n",
    "# Transform Test Set\n",
    "tfidf_test = tfidf.transform(X_test)"
   ]
  },
  {
   "cell_type": "markdown",
   "id": "e04d98a0",
   "metadata": {},
   "source": [
    "**Multinomial Naive Bayes**"
   ]
  },
  {
   "cell_type": "code",
   "execution_count": 152,
   "id": "04315809",
   "metadata": {},
   "outputs": [
    {
     "data": {
      "text/html": [
       "<div>\n",
       "<style scoped>\n",
       "    .dataframe tbody tr th:only-of-type {\n",
       "        vertical-align: middle;\n",
       "    }\n",
       "\n",
       "    .dataframe tbody tr th {\n",
       "        vertical-align: top;\n",
       "    }\n",
       "\n",
       "    .dataframe thead th {\n",
       "        text-align: right;\n",
       "    }\n",
       "</style>\n",
       "<table border=\"1\" class=\"dataframe\">\n",
       "  <thead>\n",
       "    <tr style=\"text-align: right;\">\n",
       "      <th></th>\n",
       "      <th>Actual</th>\n",
       "      <th>Predicted</th>\n",
       "    </tr>\n",
       "  </thead>\n",
       "  <tbody>\n",
       "    <tr>\n",
       "      <th>2822</th>\n",
       "      <td>0</td>\n",
       "      <td>0</td>\n",
       "    </tr>\n",
       "    <tr>\n",
       "      <th>4899</th>\n",
       "      <td>1</td>\n",
       "      <td>1</td>\n",
       "    </tr>\n",
       "    <tr>\n",
       "      <th>5382</th>\n",
       "      <td>0</td>\n",
       "      <td>0</td>\n",
       "    </tr>\n",
       "    <tr>\n",
       "      <th>2233</th>\n",
       "      <td>0</td>\n",
       "      <td>0</td>\n",
       "    </tr>\n",
       "    <tr>\n",
       "      <th>4829</th>\n",
       "      <td>0</td>\n",
       "      <td>0</td>\n",
       "    </tr>\n",
       "  </tbody>\n",
       "</table>\n",
       "</div>"
      ],
      "text/plain": [
       "      Actual  Predicted\n",
       "2822       0          0\n",
       "4899       1          1\n",
       "5382       0          0\n",
       "2233       0          0\n",
       "4829       0          0"
      ]
     },
     "execution_count": 152,
     "metadata": {},
     "output_type": "execute_result"
    }
   ],
   "source": [
    "# MultinomialNB Object\n",
    "nb = MultinomialNB(alpha = 0.1)\n",
    "\n",
    "# Fit Training Set\n",
    "nb.fit(tfidf_train, y_train)\n",
    "\n",
    "# Predict Testing Set\n",
    "pred_nbt = nb.predict(tfidf_test)\n",
    "\n",
    "# Actual vs Predicted Outcome\n",
    "pd.DataFrame({\"Actual\": y_test,\n",
    "              \"Predicted\": pred_nbt}).sample(5)"
   ]
  },
  {
   "cell_type": "markdown",
   "id": "4f6c6dad",
   "metadata": {},
   "source": [
    "**Confusion Matrix**"
   ]
  },
  {
   "cell_type": "code",
   "execution_count": 153,
   "id": "0a5cc6e5",
   "metadata": {},
   "outputs": [
    {
     "data": {
      "text/html": [
       "<div>\n",
       "<style scoped>\n",
       "    .dataframe tbody tr th:only-of-type {\n",
       "        vertical-align: middle;\n",
       "    }\n",
       "\n",
       "    .dataframe tbody tr th {\n",
       "        vertical-align: top;\n",
       "    }\n",
       "\n",
       "    .dataframe thead th {\n",
       "        text-align: right;\n",
       "    }\n",
       "</style>\n",
       "<table border=\"1\" class=\"dataframe\">\n",
       "  <thead>\n",
       "    <tr style=\"text-align: right;\">\n",
       "      <th></th>\n",
       "      <th>0</th>\n",
       "      <th>1</th>\n",
       "    </tr>\n",
       "  </thead>\n",
       "  <tbody>\n",
       "    <tr>\n",
       "      <th>0</th>\n",
       "      <td>478</td>\n",
       "      <td>5</td>\n",
       "    </tr>\n",
       "    <tr>\n",
       "      <th>1</th>\n",
       "      <td>10</td>\n",
       "      <td>65</td>\n",
       "    </tr>\n",
       "  </tbody>\n",
       "</table>\n",
       "</div>"
      ],
      "text/plain": [
       "     0   1\n",
       "0  478   5\n",
       "1   10  65"
      ]
     },
     "execution_count": 153,
     "metadata": {},
     "output_type": "execute_result"
    }
   ],
   "source": [
    "pd.DataFrame(confusion_matrix(y_test, pred_nbt))"
   ]
  },
  {
   "cell_type": "markdown",
   "id": "f39b2e86",
   "metadata": {},
   "source": [
    "**Classification Report**"
   ]
  },
  {
   "cell_type": "code",
   "execution_count": 154,
   "id": "6e803d37",
   "metadata": {},
   "outputs": [
    {
     "name": "stdout",
     "output_type": "stream",
     "text": [
      "              precision    recall  f1-score   support\n",
      "\n",
      "           0       0.98      0.99      0.98       483\n",
      "           1       0.93      0.87      0.90        75\n",
      "\n",
      "    accuracy                           0.97       558\n",
      "   macro avg       0.95      0.93      0.94       558\n",
      "weighted avg       0.97      0.97      0.97       558\n",
      "\n"
     ]
    }
   ],
   "source": [
    "print(classification_report(y_test, pred_nbt))"
   ]
  },
  {
   "cell_type": "markdown",
   "id": "a83167ea",
   "metadata": {},
   "source": [
    "**Actual and Predicted Outcome Density Comparison**"
   ]
  },
  {
   "cell_type": "code",
   "execution_count": 157,
   "id": "c2da5de9",
   "metadata": {},
   "outputs": [
    {
     "data": {
      "image/png": "[encoded data removed]",
      "text/plain": [
       "<Figure size 1368x504 with 1 Axes>"
      ]
     },
     "metadata": {
      "needs_background": "light"
     },
     "output_type": "display_data"
    }
   ],
   "source": [
    "plt.figure(figsize = (19, 7))\n",
    "sns.kdeplot(y_test, label = \"Actual\", linewidth = 3, color = \"pink\")\n",
    "sns.kdeplot(pred_nbt, label = \"Predicted\", linewidth = 3, color = \"red\")\n",
    "plt.title(\"Actual and Predicted Outcome Density Comparison\", size = 20, color = \"red\")\n",
    "plt.xlabel(\"Target\", size = 20, color = \"red\")\n",
    "plt.ylabel(\"Density\", size = 20, color = \"red\")\n",
    "plt.xticks(size = 15)\n",
    "plt.yticks(size = 15)\n",
    "plt.legend(prop={\"size\":15})\n",
    "plt.show()"
   ]
  },
  {
   "cell_type": "code",
   "execution_count": null,
   "id": "4264797d",
   "metadata": {},
   "outputs": [],
   "source": []
  }
 ],
 "metadata": {
  "kernelspec": {
   "display_name": "Python 3",
   "language": "python",
   "name": "python3"
  },
  "language_info": {
   "codemirror_mode": {
    "name": "ipython",
    "version": 3
   },
   "file_extension": ".py",
   "mimetype": "text/x-python",
   "name": "python",
   "nbconvert_exporter": "python",
   "pygments_lexer": "ipython3",
   "version": "3.8.8"
  }
 },
 "nbformat": 4,
 "nbformat_minor": 5
}

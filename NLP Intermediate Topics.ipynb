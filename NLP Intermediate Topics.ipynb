{
 "cells": [
  {
   "cell_type": "markdown",
   "id": "46a676de",
   "metadata": {},
   "source": [
    "### Import Libraries"
   ]
  },
  {
   "cell_type": "code",
   "execution_count": 20,
   "id": "a0523913",
   "metadata": {},
   "outputs": [],
   "source": [
    "import pandas as pd\n",
    "import re\n",
    "from sklearn.feature_extraction.text import TfidfVectorizer\n",
    "from sklearn.svm import LinearSVC\n",
    "from sklearn.model_selection import train_test_split\n",
    "from summa import summarizer"
   ]
  },
  {
   "cell_type": "markdown",
   "id": "9c62cf89",
   "metadata": {},
   "source": [
    "### Import News Dataset"
   ]
  },
  {
   "cell_type": "code",
   "execution_count": 2,
   "id": "3233ea9b",
   "metadata": {},
   "outputs": [
    {
     "data": {
      "text/html": [
       "<div>\n",
       "<style scoped>\n",
       "    .dataframe tbody tr th:only-of-type {\n",
       "        vertical-align: middle;\n",
       "    }\n",
       "\n",
       "    .dataframe tbody tr th {\n",
       "        vertical-align: top;\n",
       "    }\n",
       "\n",
       "    .dataframe thead th {\n",
       "        text-align: right;\n",
       "    }\n",
       "</style>\n",
       "<table border=\"1\" class=\"dataframe\">\n",
       "  <thead>\n",
       "    <tr style=\"text-align: right;\">\n",
       "      <th></th>\n",
       "      <th>link</th>\n",
       "      <th>headline</th>\n",
       "      <th>category</th>\n",
       "      <th>short_description</th>\n",
       "      <th>authors</th>\n",
       "      <th>date</th>\n",
       "    </tr>\n",
       "  </thead>\n",
       "  <tbody>\n",
       "    <tr>\n",
       "      <th>0</th>\n",
       "      <td>https://www.huffpost.com/entry/covid-boosters-...</td>\n",
       "      <td>Over 4 Million Americans Roll Up Sleeves For O...</td>\n",
       "      <td>U.S. NEWS</td>\n",
       "      <td>Health experts said it is too early to predict...</td>\n",
       "      <td>Carla K. Johnson, AP</td>\n",
       "      <td>2022-09-23</td>\n",
       "    </tr>\n",
       "    <tr>\n",
       "      <th>1</th>\n",
       "      <td>https://www.huffpost.com/entry/american-airlin...</td>\n",
       "      <td>American Airlines Flyer Charged, Banned For Li...</td>\n",
       "      <td>U.S. NEWS</td>\n",
       "      <td>He was subdued by passengers and crew when he ...</td>\n",
       "      <td>Mary Papenfuss</td>\n",
       "      <td>2022-09-23</td>\n",
       "    </tr>\n",
       "    <tr>\n",
       "      <th>2</th>\n",
       "      <td>https://www.huffpost.com/entry/funniest-tweets...</td>\n",
       "      <td>23 Of The Funniest Tweets About Cats And Dogs ...</td>\n",
       "      <td>COMEDY</td>\n",
       "      <td>\"Until you have a dog you don't understand wha...</td>\n",
       "      <td>Elyse Wanshel</td>\n",
       "      <td>2022-09-23</td>\n",
       "    </tr>\n",
       "    <tr>\n",
       "      <th>3</th>\n",
       "      <td>https://www.huffpost.com/entry/funniest-parent...</td>\n",
       "      <td>The Funniest Tweets From Parents This Week (Se...</td>\n",
       "      <td>PARENTING</td>\n",
       "      <td>\"Accidentally put grown-up toothpaste on my to...</td>\n",
       "      <td>Caroline Bologna</td>\n",
       "      <td>2022-09-23</td>\n",
       "    </tr>\n",
       "    <tr>\n",
       "      <th>4</th>\n",
       "      <td>https://www.huffpost.com/entry/amy-cooper-lose...</td>\n",
       "      <td>Woman Who Called Cops On Black Bird-Watcher Lo...</td>\n",
       "      <td>U.S. NEWS</td>\n",
       "      <td>Amy Cooper accused investment firm Franklin Te...</td>\n",
       "      <td>Nina Golgowski</td>\n",
       "      <td>2022-09-22</td>\n",
       "    </tr>\n",
       "  </tbody>\n",
       "</table>\n",
       "</div>"
      ],
      "text/plain": [
       "                                                link  \\\n",
       "0  https://www.huffpost.com/entry/covid-boosters-...   \n",
       "1  https://www.huffpost.com/entry/american-airlin...   \n",
       "2  https://www.huffpost.com/entry/funniest-tweets...   \n",
       "3  https://www.huffpost.com/entry/funniest-parent...   \n",
       "4  https://www.huffpost.com/entry/amy-cooper-lose...   \n",
       "\n",
       "                                            headline   category  \\\n",
       "0  Over 4 Million Americans Roll Up Sleeves For O...  U.S. NEWS   \n",
       "1  American Airlines Flyer Charged, Banned For Li...  U.S. NEWS   \n",
       "2  23 Of The Funniest Tweets About Cats And Dogs ...     COMEDY   \n",
       "3  The Funniest Tweets From Parents This Week (Se...  PARENTING   \n",
       "4  Woman Who Called Cops On Black Bird-Watcher Lo...  U.S. NEWS   \n",
       "\n",
       "                                   short_description               authors  \\\n",
       "0  Health experts said it is too early to predict...  Carla K. Johnson, AP   \n",
       "1  He was subdued by passengers and crew when he ...        Mary Papenfuss   \n",
       "2  \"Until you have a dog you don't understand wha...         Elyse Wanshel   \n",
       "3  \"Accidentally put grown-up toothpaste on my to...      Caroline Bologna   \n",
       "4  Amy Cooper accused investment firm Franklin Te...        Nina Golgowski   \n",
       "\n",
       "        date  \n",
       "0 2022-09-23  \n",
       "1 2022-09-23  \n",
       "2 2022-09-23  \n",
       "3 2022-09-23  \n",
       "4 2022-09-22  "
      ]
     },
     "execution_count": 2,
     "metadata": {},
     "output_type": "execute_result"
    }
   ],
   "source": [
    "news = pd.read_json(\"News.json\", lines = True)\n",
    "news.head()"
   ]
  },
  {
   "cell_type": "markdown",
   "id": "8b730d86",
   "metadata": {},
   "source": [
    "### Text Cleaning"
   ]
  },
  {
   "cell_type": "code",
   "execution_count": 5,
   "id": "d610c24f",
   "metadata": {},
   "outputs": [
    {
     "data": {
      "text/html": [
       "<div>\n",
       "<style scoped>\n",
       "    .dataframe tbody tr th:only-of-type {\n",
       "        vertical-align: middle;\n",
       "    }\n",
       "\n",
       "    .dataframe tbody tr th {\n",
       "        vertical-align: top;\n",
       "    }\n",
       "\n",
       "    .dataframe thead th {\n",
       "        text-align: right;\n",
       "    }\n",
       "</style>\n",
       "<table border=\"1\" class=\"dataframe\">\n",
       "  <thead>\n",
       "    <tr style=\"text-align: right;\">\n",
       "      <th></th>\n",
       "      <th>link</th>\n",
       "      <th>headline</th>\n",
       "      <th>category</th>\n",
       "      <th>short_description</th>\n",
       "      <th>authors</th>\n",
       "      <th>date</th>\n",
       "    </tr>\n",
       "  </thead>\n",
       "  <tbody>\n",
       "    <tr>\n",
       "      <th>0</th>\n",
       "      <td>https://www.huffpost.com/entry/covid-boosters-...</td>\n",
       "      <td>over 4 million americans roll up sleeves for o...</td>\n",
       "      <td>us news</td>\n",
       "      <td>health experts said it is too early to predict...</td>\n",
       "      <td>carla k johnson ap</td>\n",
       "      <td>2022-09-23</td>\n",
       "    </tr>\n",
       "    <tr>\n",
       "      <th>1</th>\n",
       "      <td>https://www.huffpost.com/entry/american-airlin...</td>\n",
       "      <td>american airlines flyer charged banned for lif...</td>\n",
       "      <td>us news</td>\n",
       "      <td>he was subdued by passengers and crew when he ...</td>\n",
       "      <td>mary papenfuss</td>\n",
       "      <td>2022-09-23</td>\n",
       "    </tr>\n",
       "    <tr>\n",
       "      <th>2</th>\n",
       "      <td>https://www.huffpost.com/entry/funniest-tweets...</td>\n",
       "      <td>23 of the funniest tweets about cats and dogs ...</td>\n",
       "      <td>comedy</td>\n",
       "      <td>until you have a dog you dont understand what ...</td>\n",
       "      <td>elyse wanshel</td>\n",
       "      <td>2022-09-23</td>\n",
       "    </tr>\n",
       "    <tr>\n",
       "      <th>3</th>\n",
       "      <td>https://www.huffpost.com/entry/funniest-parent...</td>\n",
       "      <td>the funniest tweets from parents this week sep...</td>\n",
       "      <td>parenting</td>\n",
       "      <td>accidentally put grownup toothpaste on my todd...</td>\n",
       "      <td>caroline bologna</td>\n",
       "      <td>2022-09-23</td>\n",
       "    </tr>\n",
       "    <tr>\n",
       "      <th>4</th>\n",
       "      <td>https://www.huffpost.com/entry/amy-cooper-lose...</td>\n",
       "      <td>woman who called cops on black birdwatcher los...</td>\n",
       "      <td>us news</td>\n",
       "      <td>amy cooper accused investment firm franklin te...</td>\n",
       "      <td>nina golgowski</td>\n",
       "      <td>2022-09-22</td>\n",
       "    </tr>\n",
       "  </tbody>\n",
       "</table>\n",
       "</div>"
      ],
      "text/plain": [
       "                                                link  \\\n",
       "0  https://www.huffpost.com/entry/covid-boosters-...   \n",
       "1  https://www.huffpost.com/entry/american-airlin...   \n",
       "2  https://www.huffpost.com/entry/funniest-tweets...   \n",
       "3  https://www.huffpost.com/entry/funniest-parent...   \n",
       "4  https://www.huffpost.com/entry/amy-cooper-lose...   \n",
       "\n",
       "                                            headline   category  \\\n",
       "0  over 4 million americans roll up sleeves for o...    us news   \n",
       "1  american airlines flyer charged banned for lif...    us news   \n",
       "2  23 of the funniest tweets about cats and dogs ...     comedy   \n",
       "3  the funniest tweets from parents this week sep...  parenting   \n",
       "4  woman who called cops on black birdwatcher los...    us news   \n",
       "\n",
       "                                   short_description             authors  \\\n",
       "0  health experts said it is too early to predict...  carla k johnson ap   \n",
       "1  he was subdued by passengers and crew when he ...      mary papenfuss   \n",
       "2  until you have a dog you dont understand what ...       elyse wanshel   \n",
       "3  accidentally put grownup toothpaste on my todd...    caroline bologna   \n",
       "4  amy cooper accused investment firm franklin te...      nina golgowski   \n",
       "\n",
       "        date  \n",
       "0 2022-09-23  \n",
       "1 2022-09-23  \n",
       "2 2022-09-23  \n",
       "3 2022-09-23  \n",
       "4 2022-09-22  "
      ]
     },
     "execution_count": 5,
     "metadata": {},
     "output_type": "execute_result"
    }
   ],
   "source": [
    "def clean_text(text):\n",
    "    # Convert text to lowercase\n",
    "    text = text.lower()\n",
    "    \n",
    "    # Remove punctuation\n",
    "    text = re.sub(r'[^\\w\\s]', '', text)\n",
    "    \n",
    "    # Remove whitespace\n",
    "    text = text.strip()\n",
    "    \n",
    "    return text\n",
    "\n",
    "# Read the JSON file into a DataFrame\n",
    "df = pd.read_json('News.json', lines = True)\n",
    "\n",
    "# Exclude timestamp and link columns from text cleaning\n",
    "exclude_columns = ['date', 'link']\n",
    "\n",
    "# Clean text in all columns except the excluded columns\n",
    "for column in df.columns:\n",
    "    if column not in exclude_columns:\n",
    "        df[column] = df[column].apply(clean_text)\n",
    "\n",
    "df.head()"
   ]
  },
  {
   "cell_type": "markdown",
   "id": "64f2cf86",
   "metadata": {},
   "source": [
    "**1. Topic Modeling**"
   ]
  },
  {
   "cell_type": "code",
   "execution_count": 6,
   "id": "dec605d8",
   "metadata": {},
   "outputs": [],
   "source": [
    "import pandas as pd\n",
    "\n",
    "def categorize_intent(text, keyword_dict):\n",
    "    for intent, keywords in keyword_dict.items():\n",
    "        for keyword in keywords:\n",
    "            if keyword in text:\n",
    "                return intent\n",
    "    return \"General\"\n",
    "\n",
    "def categorize_texts(df, text_column, keyword_dict):\n",
    "    intents = []\n",
    "    for index, row in df.iterrows():\n",
    "        text = row[text_column]\n",
    "        intent = categorize_intent(text, keyword_dict)\n",
    "        intents.append(intent)\n",
    "    df['intent'] = intents\n",
    "    return df"
   ]
  },
  {
   "cell_type": "code",
   "execution_count": 7,
   "id": "64af92ba",
   "metadata": {},
   "outputs": [],
   "source": [
    "keyword_dict = {\n",
    "    'Informational': ['directions', 'recipe', 'weather', 'information', 'facts', 'knowledge', 'news', 'research', 'history', 'definition', 'tutorial', 'guide', 'data', 'statistics', 'FAQ'],\n",
    "    'Transactional': ['order', 'book', 'purchase', 'buy', 'reserve', 'subscribe', 'checkout', 'payment', 'delivery', 'refund', 'membership', 'upgrade', 'offer', 'coupon', 'voucher'],\n",
    "    'Social': ['greeting', 'conversation', 'gratitude', 'sympathy', 'socialize', 'meet', 'chat', 'compliment', 'apologize', 'celebrate', 'small talk', 'networking', 'reconnect', 'introduce', 'interact'],\n",
    "    'Navigational': ['find', 'locate', 'nearest', 'navigate', 'map', 'address', 'directions', 'GPS', 'route', 'wayfinding', 'landmark', 'traffic', 'distance', 'transportation', 'public transport'],\n",
    "    'Problem-Solving': ['troubleshoot', 'solve', 'fix', 'issue', 'help', 'advice', 'error', 'bug', 'debug', 'trick', 'resolve', 'assistance', 'support', 'workaround', 'diagnose'],\n",
    "    'Entertainment': ['game', 'joke', 'entertainment', 'movie', 'music', 'book', 'fun', 'play', 'puzzle', 'riddle', 'comedy', 'concert', 'novel', 'party', 'recreation'],\n",
    "    'Persuasive': ['persuade', 'convince', 'support', 'promote', 'opinion', 'argument', 'debate', 'campaign', 'propose', 'endorse', 'advocate', 'conviction', 'influence', 'persuasion', 'testimonial'],\n",
    "    'Emotional': ['emotion', 'feelings', 'joy', 'sadness', 'anger', 'comfort', 'support', 'happiness', 'love', 'fear', 'anxiety', 'empathy', 'encouragement', 'motivation', 'inspiration'],\n",
    "    'Instructional': ['instruction', 'guide', 'assemble', 'follow', 'operate', 'tutorial', 'step-by-step', 'demonstration', 'procedure', 'training', 'walkthrough', 'demo', 'manual', 'illustration', 'technique'],\n",
    "    'Collaborative': ['plan', 'coordinate', 'collaborate', 'teamwork', 'event', 'brainstorm', 'meeting', 'project', 'task', 'cooperation', 'group', 'partnership', 'contribution', 'network', 'synergy'],\n",
    "    'Health': ['health', 'fitness', 'nutrition', 'exercise', 'wellness', 'diet', 'healthy habits', 'well-being', 'lifestyle', 'mental health', 'weight loss', 'medical', 'self-care', 'stress management', 'prevention'],\n",
    "    'Technology': ['technology', 'device', 'software', 'hardware', 'internet', 'network', 'programming', 'gadget', 'innovation', 'digital', 'app', 'smartphone', 'cybersecurity', 'AI', 'data privacy'],\n",
    "    'Finance': ['finance', 'money', 'investment', 'savings', 'budget', 'credit', 'banking', 'stocks', 'taxes', 'insurance', 'retirement', 'loan', 'debt', 'financial planning', 'wealth'],\n",
    "    'Travel': ['passengers', 'travel', 'vacation', 'destination', 'hotel', 'flight', 'tourist', 'adventure', 'itinerary', 'sightseeing', 'explore', 'cultural', 'passport', 'visa', 'packing', 'local cuisine'],\n",
    "    'Education': ['teacher', 'education', 'learning', 'school', 'university', 'study', 'research', 'knowledge', 'curriculum', 'exam', 'homework', 'online courses', 'degree', 'learning resources', 'tutoring', 'academic'],\n",
    "    'Sports': ['sports', 'game', 'team', 'athlete', 'tournament', 'score', 'football', 'basketball', 'soccer', 'baseball', 'tennis', 'fitness', 'sportsmanship', 'coach', 'training'],\n",
    "    'Fashion': ['fashion', 'clothing', 'style', 'trend', 'design', 'outfit', 'fashion show', 'accessories', 'hairstyle', 'makeup', 'wardrobe', 'shopping', 'brand', 'fashion industry', 'model'],\n",
    "    'Food': ['food', 'restaurant', 'cuisine', 'recipe', 'cook', 'ingredient', 'cooking techniques', 'nutrition', 'food preparation', 'meal planning', 'healthy recipes', 'restaurant review', 'food blog', 'culinary', 'grocery'],\n",
    "    'Politics': ['politics', 'government', 'policy', 'election', 'democracy', 'law', 'political news', 'current affairs', 'voting', 'political party', 'public policy', 'campaign', 'political debate', 'legislation', 'citizenship'],\n",
    "    'Science': ['science', 'research', 'experiment', 'discovery', 'theory', 'scientist', 'biology', 'chemistry', 'physics', 'astronomy', 'environmental science', 'scientific method', 'lab', 'scientific journal', 'scientific inquiry'],\n",
    "    'Relationships': ['relationship', 'love', 'friendship', 'dating', 'marriage', 'breakup', 'communication', 'trust', 'compatibility', 'intimacy', 'conflict resolution', 'relationship advice', 'relationship goals', 'relationship dynamics', 'relationship counseling'],\n",
    "    'Art': ['art', 'painting', 'sculpture', 'gallery', 'creativity', 'expression', 'artistic techniques', 'art history', 'art exhibition', 'visual arts', 'modern art', 'art movements', 'art critique', 'artistic inspiration', 'art appreciation'],\n",
    "    'Motivation': ['motivation', 'inspire', 'goal', 'ambition', 'perseverance', 'success', 'self-improvement', 'personal growth', 'achieving dreams', 'motivational quotes', 'positive mindset', 'overcoming obstacles', 'goal setting', 'self-discipline', 'empowerment'],\n",
    "    'Environment': ['environment', 'sustainability', 'climate change', 'recycling', 'pollution', 'nature', 'green living', 'renewable energy', 'conservation', 'eco-friendly', 'carbon footprint', 'environmental activism', 'ecosystem', 'biodiversity', 'environmental impact'],\n",
    "    'Technology News': ['tech news', 'innovation', 'gadget', 'start-up', 'software update', 'technology trends', 'tech reviews', 'tech events', 'latest gadgets', 'emerging technologies', 'tech industry news', 'future tech', 'AI advancements', 'tech controversies', 'digital transformation'],\n",
    "    'Self-Care': ['self-care', 'relaxation', 'meditation', 'mindfulness', 'stress relief', 'self-care practices', 'self-love', 'self-reflection', 'self-care routines', 'self-care activities', 'wellness tips', 'mental health', 'self-care for busy schedules', 'self-care habits', 'self-care products'],\n",
    "    'Career': ['career', 'job', 'interview', 'promotion', 'professional development', 'job search', 'resume writing', 'career growth', 'workplace skills', 'networking', 'career transitions', 'job satisfaction', 'career advancement', 'leadership', 'work-life balance'],\n",
    "    'Parenting': ['parenting', 'child', 'baby', 'education', 'discipline', 'family', 'parenting tips', 'child development', 'parenting styles', 'positive parenting', 'parent-child relationships', 'raising children', 'parenting challenges', 'parenting support', 'parenting resources'],\n",
    "    'Relationship Advice': ['relationship advice', 'communication', 'trust', 'conflict resolution', 'commitment', 'building healthy relationships', 'maintaining long-term relationships', 'relationship red flags', 'relationship boundaries', 'love languages', 'relationship milestones', 'relationship counseling', 'relationship goals', 'relationship problems', 'healthy communication'],\n",
    "    'DIY Projects': ['DIY projects', 'crafts', 'home improvement', 'repairs', 'DIY home decor', 'DIY tutorials', 'upcycling', 'DIY woodworking', 'DIY gifts', 'DIY fashion', 'DIY beauty', 'DIY organization', 'DIY hacks', 'DIY renovation', 'DIY gardening'],\n",
    "    'Animals': ['animals', 'pets', 'wildlife', 'domestic animals', 'animal care', 'animal behavior', 'endangered species', 'animal facts', 'animal habitats', 'animal conservation', 'animal welfare', 'animal adoption', 'animal training', 'animal rights', 'animal communication']\n",
    "}\n",
    "\n",
    "\n",
    "df = categorize_texts(df, 'short_description', keyword_dict)"
   ]
  },
  {
   "cell_type": "code",
   "execution_count": 9,
   "id": "b3905a9a",
   "metadata": {},
   "outputs": [
    {
     "data": {
      "text/plain": [
       "General                96354\n",
       "Informational          10020\n",
       "Entertainment           9832\n",
       "Problem-Solving         9120\n",
       "Emotional               8835\n",
       "Transactional           7854\n",
       "Technology              7538\n",
       "Art                     6814\n",
       "Collaborative           6074\n",
       "Navigational            4804\n",
       "Fashion                 3790\n",
       "Social                  3758\n",
       "Health                  3737\n",
       "Politics                3603\n",
       "Persuasive              3511\n",
       "Education               3398\n",
       "Instructional           3305\n",
       "Parenting               3133\n",
       "Travel                  2706\n",
       "Finance                 1999\n",
       "Food                    1797\n",
       "Relationships           1611\n",
       "Sports                  1534\n",
       "Science                 1249\n",
       "Career                  1203\n",
       "Motivation               843\n",
       "Environment              657\n",
       "Animals                  218\n",
       "Self-Care                138\n",
       "Relationship Advice       67\n",
       "DIY Projects              24\n",
       "Technology News            1\n",
       "Name: intent, dtype: int64"
      ]
     },
     "execution_count": 9,
     "metadata": {},
     "output_type": "execute_result"
    }
   ],
   "source": [
    "df[\"intent\"].value_counts()"
   ]
  },
  {
   "cell_type": "markdown",
   "id": "1146c476",
   "metadata": {},
   "source": [
    "**2. Topic Classification**"
   ]
  },
  {
   "cell_type": "code",
   "execution_count": 15,
   "id": "1586a221",
   "metadata": {},
   "outputs": [
    {
     "name": "stdout",
     "output_type": "stream",
     "text": [
      "Accuracy: 0.4427766906886842\n"
     ]
    }
   ],
   "source": [
    "X = df[\"short_description\"]\n",
    "y = df[\"category\"]\n",
    "\n",
    "X_train, X_test, y_train, y_test = train_test_split(X, \n",
    "                                                    y, \n",
    "                                                    test_size=0.2, \n",
    "                                                    random_state=42,\n",
    "                                                    stratify = y)\n",
    "\n",
    "vectorizer = TfidfVectorizer()\n",
    "X_train_vec = vectorizer.fit_transform(X_train)\n",
    "X_test_vec = vectorizer.transform(X_test)\n",
    "\n",
    "classifier = LinearSVC()\n",
    "classifier.fit(X_train_vec, y_train)\n",
    "\n",
    "accuracy = classifier.score(X_test_vec, y_test)\n",
    "print(\"Accuracy:\", accuracy)"
   ]
  },
  {
   "cell_type": "markdown",
   "id": "356dc2f3",
   "metadata": {},
   "source": [
    "**3. Text Summarization**"
   ]
  },
  {
   "cell_type": "code",
   "execution_count": 33,
   "id": "8100918c",
   "metadata": {},
   "outputs": [
    {
     "name": "stdout",
     "output_type": "stream",
     "text": [
      "There are many techniques available to generate extractive summarization to keep it simple, I will be using an unsupervised learning approach to find the sentences similarity and rank them. Summarization can be defined as a task of producing a concise and fluent summary while preserving key information and overall meaning. One benefit of this will be, you don’t need to train and build a model prior start using it for your project. It’s good to understand Cosine similarity to make the best use of the code you are going to see. Cosine similarity is a measure of similarity between two non-zero vectors of an inner product space that measures the cosine of the angle between them. Its measures cosine of the angle between vectors. The angle will be 0 if sentences are similar.\n"
     ]
    }
   ],
   "source": [
    "# Text\n",
    "text = \"There are many techniques available to generate extractive summarization to keep it simple, I will be using an unsupervised learning approach to find the sentences similarity and rank them. Summarization can be defined as a task of producing a concise and fluent summary while preserving key information and overall meaning. One benefit of this will be, you don’t need to train and build a model prior start using it for your project. It’s good to understand Cosine similarity to make the best use of the code you are going to see. Cosine similarity is a measure of similarity between two non-zero vectors of an inner product space that measures the cosine of the angle between them. Its measures cosine of the angle between vectors. The angle will be 0 if sentences are similar.\"\n",
    "print(text)"
   ]
  },
  {
   "cell_type": "code",
   "execution_count": 34,
   "id": "741c5eb6",
   "metadata": {},
   "outputs": [
    {
     "name": "stdout",
     "output_type": "stream",
     "text": [
      "Cosine similarity is a measure of similarity between two non-zero vectors of an inner product space that measures the cosine of the angle between them.\n"
     ]
    }
   ],
   "source": [
    "# Extractive summarization\n",
    "summary = summarizer.summarize(text)\n",
    "print(summary)"
   ]
  },
  {
   "cell_type": "markdown",
   "id": "e101759f",
   "metadata": {},
   "source": [
    "**4. Machine Translation**"
   ]
  },
  {
   "cell_type": "code",
   "execution_count": 40,
   "id": "11ec7c75",
   "metadata": {},
   "outputs": [
    {
     "name": "stdout",
     "output_type": "stream",
     "text": [
      "أحب القيام بمعالجة اللغة الطبيعية باستخدام برمجة بايثون.\n"
     ]
    }
   ],
   "source": [
    "def translate_text(text, target_language):\n",
    "    translator = Translator(to_lang=target_language)\n",
    "    translation = translator.translate(text)\n",
    "    return translation\n",
    "\n",
    "text = \"I like to do natural language processing using python programming.\"\n",
    "target_language = \"ar\"  # Translate to Arabic\n",
    "translated_text = translate_text(text, target_language)\n",
    "print(translated_text)"
   ]
  }
 ],
 "metadata": {
  "kernelspec": {
   "display_name": "Python 3 (ipykernel)",
   "language": "python",
   "name": "python3"
  },
  "language_info": {
   "codemirror_mode": {
    "name": "ipython",
    "version": 3
   },
   "file_extension": ".py",
   "mimetype": "text/x-python",
   "name": "python",
   "nbconvert_exporter": "python",
   "pygments_lexer": "ipython3",
   "version": "3.10.9"
  }
 },
 "nbformat": 4,
 "nbformat_minor": 5
}
